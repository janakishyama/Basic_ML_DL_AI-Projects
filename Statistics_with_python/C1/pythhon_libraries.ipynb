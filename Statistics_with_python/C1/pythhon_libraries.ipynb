{
 "cells": [
  {
   "cell_type": "markdown",
   "source": [
    "# NumPy\r\n",
    "NumPy is the fundamental package for scientific computing with Python. A numpy array is a grid of values, all of the same type, and is indexed by a tuple of nonnegative integers. The number of dimensions is the rank of the array; the shape of an array is a tuple of integers giving the size of the array along each dimension. It contains among other things: \r\n",
    "\r\n",
    "1. a powerful N-dimensional array object\r\n",
    "2. sophisticated (broadcasting) functions\r\n",
    "3. tools for integrating C/C++ and Fortran code\r\n",
    "4. useful linear algebra, Fourier transform, and random number capabilities"
   ],
   "metadata": {}
  },
  {
   "cell_type": "markdown",
   "source": [],
   "metadata": {}
  },
  {
   "cell_type": "code",
   "execution_count": 1,
   "source": [
    "import numpy as np"
   ],
   "outputs": [],
   "metadata": {}
  },
  {
   "cell_type": "code",
   "execution_count": 2,
   "source": [
    "a = np.array([1,2,3])\r\n",
    "\r\n",
    "print(type(a))\r\n",
    "print(a.shape)"
   ],
   "outputs": [
    {
     "output_type": "stream",
     "name": "stdout",
     "text": [
      "<class 'numpy.ndarray'>\n",
      "(3,)\n"
     ]
    }
   ],
   "metadata": {}
  },
  {
   "cell_type": "code",
   "execution_count": 6,
   "source": [
    "print(a[1], \",\", a[0])"
   ],
   "outputs": [
    {
     "output_type": "stream",
     "name": "stdout",
     "text": [
      "2 , 1\n"
     ]
    }
   ],
   "metadata": {}
  },
  {
   "cell_type": "code",
   "execution_count": null,
   "source": [],
   "outputs": [],
   "metadata": {}
  }
 ],
 "metadata": {
  "orig_nbformat": 4,
  "language_info": {
   "name": "python",
   "version": "3.9.4",
   "mimetype": "text/x-python",
   "codemirror_mode": {
    "name": "ipython",
    "version": 3
   },
   "pygments_lexer": "ipython3",
   "nbconvert_exporter": "python",
   "file_extension": ".py"
  },
  "kernelspec": {
   "name": "python3",
   "display_name": "Python 3.9.4 64-bit ('audioESR06': conda)"
  },
  "interpreter": {
   "hash": "508cafaa9b79aa286ed049b8a0503b19fdf3a0473c65d0b67ffb199744fcc7c2"
  }
 },
 "nbformat": 4,
 "nbformat_minor": 2
}