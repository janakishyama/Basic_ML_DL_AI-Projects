{
 "cells": [
  {
   "cell_type": "markdown",
   "source": [
    "# Using Python to read data files and explore their contents"
   ],
   "metadata": {}
  },
  {
   "cell_type": "markdown",
   "source": [
    "We will be working with the NHANES (National Health and Nutrition Examination Survey) data from the 2015-2016 wave, which has been discussed earlier in this course. The raw data for this study are available here:"
   ],
   "metadata": {}
  },
  {
   "cell_type": "code",
   "execution_count": 3,
   "source": [
    "import numpy as np\r\n",
    "import pandas as pd"
   ],
   "outputs": [],
   "metadata": {}
  },
  {
   "cell_type": "code",
   "execution_count": 5,
   "source": [
    "url = \"nhanes_2015_2016.csv\"\r\n",
    "data = pd.read_csv(url)"
   ],
   "outputs": [],
   "metadata": {}
  },
  {
   "cell_type": "code",
   "execution_count": 6,
   "source": [
    "data.shape"
   ],
   "outputs": [
    {
     "output_type": "execute_result",
     "data": {
      "text/plain": [
       "(5735, 28)"
      ]
     },
     "metadata": {},
     "execution_count": 6
    }
   ],
   "metadata": {}
  },
  {
   "cell_type": "code",
   "execution_count": 7,
   "source": [
    "data.columns"
   ],
   "outputs": [
    {
     "output_type": "execute_result",
     "data": {
      "text/plain": [
       "Index(['SEQN', 'ALQ101', 'ALQ110', 'ALQ130', 'SMQ020', 'RIAGENDR', 'RIDAGEYR',\n",
       "       'RIDRETH1', 'DMDCITZN', 'DMDEDUC2', 'DMDMARTL', 'DMDHHSIZ', 'WTINT2YR',\n",
       "       'SDMVPSU', 'SDMVSTRA', 'INDFMPIR', 'BPXSY1', 'BPXDI1', 'BPXSY2',\n",
       "       'BPXDI2', 'BMXWT', 'BMXHT', 'BMXBMI', 'BMXLEG', 'BMXARML', 'BMXARMC',\n",
       "       'BMXWAIST', 'HIQ210'],\n",
       "      dtype='object')"
      ]
     },
     "metadata": {},
     "execution_count": 7
    }
   ],
   "metadata": {}
  },
  {
   "cell_type": "code",
   "execution_count": 8,
   "source": [
    "data.dtypes"
   ],
   "outputs": [
    {
     "output_type": "execute_result",
     "data": {
      "text/plain": [
       "SEQN          int64\n",
       "ALQ101      float64\n",
       "ALQ110      float64\n",
       "ALQ130      float64\n",
       "SMQ020        int64\n",
       "RIAGENDR      int64\n",
       "RIDAGEYR      int64\n",
       "RIDRETH1      int64\n",
       "DMDCITZN    float64\n",
       "DMDEDUC2    float64\n",
       "DMDMARTL    float64\n",
       "DMDHHSIZ      int64\n",
       "WTINT2YR    float64\n",
       "SDMVPSU       int64\n",
       "SDMVSTRA      int64\n",
       "INDFMPIR    float64\n",
       "BPXSY1      float64\n",
       "BPXDI1      float64\n",
       "BPXSY2      float64\n",
       "BPXDI2      float64\n",
       "BMXWT       float64\n",
       "BMXHT       float64\n",
       "BMXBMI      float64\n",
       "BMXLEG      float64\n",
       "BMXARML     float64\n",
       "BMXARMC     float64\n",
       "BMXWAIST    float64\n",
       "HIQ210      float64\n",
       "dtype: object"
      ]
     },
     "metadata": {},
     "execution_count": 8
    }
   ],
   "metadata": {}
  },
  {
   "cell_type": "code",
   "execution_count": 9,
   "source": [
    "w = data['DMDEDUC2']\r\n",
    "x = data.loc[:,'DMDEDUC2']\r\n",
    "y = data.DMDEDUC2\r\n",
    "z = data.iloc[:, 9]  "
   ],
   "outputs": [],
   "metadata": {}
  },
  {
   "cell_type": "code",
   "execution_count": 10,
   "source": [
    "print(w)"
   ],
   "outputs": [
    {
     "output_type": "stream",
     "name": "stdout",
     "text": [
      "0       5.0\n",
      "1       3.0\n",
      "2       3.0\n",
      "3       5.0\n",
      "4       4.0\n",
      "       ... \n",
      "5730    3.0\n",
      "5731    5.0\n",
      "5732    4.0\n",
      "5733    1.0\n",
      "5734    5.0\n",
      "Name: DMDEDUC2, Length: 5735, dtype: float64\n"
     ]
    }
   ],
   "metadata": {}
  },
  {
   "cell_type": "code",
   "execution_count": 11,
   "source": [
    "print(x)"
   ],
   "outputs": [
    {
     "output_type": "stream",
     "name": "stdout",
     "text": [
      "0       5.0\n",
      "1       3.0\n",
      "2       3.0\n",
      "3       5.0\n",
      "4       4.0\n",
      "       ... \n",
      "5730    3.0\n",
      "5731    5.0\n",
      "5732    4.0\n",
      "5733    1.0\n",
      "5734    5.0\n",
      "Name: DMDEDUC2, Length: 5735, dtype: float64\n"
     ]
    }
   ],
   "metadata": {}
  },
  {
   "cell_type": "code",
   "execution_count": 12,
   "source": [
    "print(y)"
   ],
   "outputs": [
    {
     "output_type": "stream",
     "name": "stdout",
     "text": [
      "0       5.0\n",
      "1       3.0\n",
      "2       3.0\n",
      "3       5.0\n",
      "4       4.0\n",
      "       ... \n",
      "5730    3.0\n",
      "5731    5.0\n",
      "5732    4.0\n",
      "5733    1.0\n",
      "5734    5.0\n",
      "Name: DMDEDUC2, Length: 5735, dtype: float64\n"
     ]
    }
   ],
   "metadata": {}
  },
  {
   "cell_type": "code",
   "execution_count": 13,
   "source": [
    "print(z)"
   ],
   "outputs": [
    {
     "output_type": "stream",
     "name": "stdout",
     "text": [
      "0       5.0\n",
      "1       3.0\n",
      "2       3.0\n",
      "3       5.0\n",
      "4       4.0\n",
      "       ... \n",
      "5730    3.0\n",
      "5731    5.0\n",
      "5732    4.0\n",
      "5733    1.0\n",
      "5734    5.0\n",
      "Name: DMDEDUC2, Length: 5735, dtype: float64\n"
     ]
    }
   ],
   "metadata": {}
  },
  {
   "cell_type": "code",
   "execution_count": 14,
   "source": [
    "print(data[\"DMDEDUC2\"].max())\r\n",
    "print(data.loc[:, \"DMDEDUC2\"].max())\r\n",
    "print(data.DMDEDUC2.max())\r\n",
    "print(data.iloc[:, 9].max())"
   ],
   "outputs": [
    {
     "output_type": "stream",
     "name": "stdout",
     "text": [
      "9.0\n",
      "9.0\n",
      "9.0\n",
      "9.0\n"
     ]
    }
   ],
   "metadata": {}
  },
  {
   "cell_type": "code",
   "execution_count": 16,
   "source": [
    "print(type(data)) # The type of the variable\r\n",
    "print(type(data.DMDEDUC2)) # The type of one column of the data frame\r\n",
    "print(type(data.iloc[2,:])) # The type of one row of the data frame"
   ],
   "outputs": [
    {
     "output_type": "stream",
     "name": "stdout",
     "text": [
      "<class 'pandas.core.frame.DataFrame'>\n",
      "<class 'pandas.core.series.Series'>\n",
      "<class 'pandas.core.series.Series'>\n"
     ]
    }
   ],
   "metadata": {}
  },
  {
   "cell_type": "code",
   "execution_count": 19,
   "source": [
    "x = data.iloc[3, :]\r\n",
    "print(x)"
   ],
   "outputs": [
    {
     "output_type": "stream",
     "name": "stdout",
     "text": [
      "SEQN         83735.0\n",
      "ALQ101           2.0\n",
      "ALQ110           1.0\n",
      "ALQ130           1.0\n",
      "SMQ020           2.0\n",
      "RIAGENDR         2.0\n",
      "RIDAGEYR        56.0\n",
      "RIDRETH1         3.0\n",
      "DMDCITZN         1.0\n",
      "DMDEDUC2         5.0\n",
      "DMDMARTL         6.0\n",
      "DMDHHSIZ         1.0\n",
      "WTINT2YR    102718.0\n",
      "SDMVPSU          1.0\n",
      "SDMVSTRA       131.0\n",
      "INDFMPIR         5.0\n",
      "BPXSY1         132.0\n",
      "BPXDI1          72.0\n",
      "BPXSY2         134.0\n",
      "BPXDI2          68.0\n",
      "BMXWT          109.8\n",
      "BMXHT          160.9\n",
      "BMXBMI          42.4\n",
      "BMXLEG          38.5\n",
      "BMXARML         37.7\n",
      "BMXARMC         38.3\n",
      "BMXWAIST       110.1\n",
      "HIQ210           2.0\n",
      "Name: 3, dtype: float64\n"
     ]
    }
   ],
   "metadata": {}
  },
  {
   "cell_type": "code",
   "execution_count": 21,
   "source": [
    "x = data.iloc[3:5, :]\r\n",
    "y = data.iloc[:, 2:5]\r\n",
    "\r\n",
    "print(x)\r\n",
    "print(y)"
   ],
   "outputs": [
    {
     "output_type": "stream",
     "name": "stdout",
     "text": [
      "    SEQN  ALQ101  ALQ110  ALQ130  SMQ020  RIAGENDR  RIDAGEYR  RIDRETH1  \\\n",
      "3  83735     2.0     1.0     1.0       2         2        56         3   \n",
      "4  83736     2.0     1.0     1.0       2         2        42         4   \n",
      "\n",
      "   DMDCITZN  DMDEDUC2  ...  BPXSY2  BPXDI2  BMXWT  BMXHT  BMXBMI  BMXLEG  \\\n",
      "3       1.0       5.0  ...   134.0    68.0  109.8  160.9    42.4    38.5   \n",
      "4       1.0       4.0  ...   114.0    54.0   55.2  164.9    20.3    37.4   \n",
      "\n",
      "   BMXARML  BMXARMC  BMXWAIST  HIQ210  \n",
      "3     37.7     38.3     110.1     2.0  \n",
      "4     36.0     27.2      80.4     2.0  \n",
      "\n",
      "[2 rows x 28 columns]\n",
      "      ALQ110  ALQ130  SMQ020\n",
      "0        NaN     1.0       1\n",
      "1        NaN     6.0       1\n",
      "2        NaN     NaN       1\n",
      "3        1.0     1.0       2\n",
      "4        1.0     1.0       2\n",
      "...      ...     ...     ...\n",
      "5730     2.0     NaN       1\n",
      "5731     2.0     NaN       2\n",
      "5732     NaN     1.0       1\n",
      "5733     NaN     NaN       1\n",
      "5734     NaN     2.0       2\n",
      "\n",
      "[5735 rows x 3 columns]\n"
     ]
    }
   ],
   "metadata": {}
  },
  {
   "cell_type": "markdown",
   "source": [
    "## Missing valuees"
   ],
   "metadata": {}
  },
  {
   "cell_type": "code",
   "execution_count": 23,
   "source": [
    "print(data.isnull().sum())"
   ],
   "outputs": [
    {
     "output_type": "stream",
     "name": "stdout",
     "text": [
      "SEQN           0\n",
      "ALQ101       527\n",
      "ALQ110      4004\n",
      "ALQ130      2356\n",
      "SMQ020         0\n",
      "RIAGENDR       0\n",
      "RIDAGEYR       0\n",
      "RIDRETH1       0\n",
      "DMDCITZN       1\n",
      "DMDEDUC2     261\n",
      "DMDMARTL     261\n",
      "DMDHHSIZ       0\n",
      "WTINT2YR       0\n",
      "SDMVPSU        0\n",
      "SDMVSTRA       0\n",
      "INDFMPIR     601\n",
      "BPXSY1       334\n",
      "BPXDI1       334\n",
      "BPXSY2       200\n",
      "BPXDI2       200\n",
      "BMXWT         69\n",
      "BMXHT         62\n",
      "BMXBMI        73\n",
      "BMXLEG       390\n",
      "BMXARML      308\n",
      "BMXARMC      308\n",
      "BMXWAIST     367\n",
      "HIQ210      1003\n",
      "dtype: int64\n"
     ]
    }
   ],
   "metadata": {}
  },
  {
   "cell_type": "code",
   "execution_count": 26,
   "source": [
    "print(data.notnull().sum())"
   ],
   "outputs": [
    {
     "output_type": "stream",
     "name": "stdout",
     "text": [
      "SEQN        5735\n",
      "ALQ101      5208\n",
      "ALQ110      1731\n",
      "ALQ130      3379\n",
      "SMQ020      5735\n",
      "RIAGENDR    5735\n",
      "RIDAGEYR    5735\n",
      "RIDRETH1    5735\n",
      "DMDCITZN    5734\n",
      "DMDEDUC2    5474\n",
      "DMDMARTL    5474\n",
      "DMDHHSIZ    5735\n",
      "WTINT2YR    5735\n",
      "SDMVPSU     5735\n",
      "SDMVSTRA    5735\n",
      "INDFMPIR    5134\n",
      "BPXSY1      5401\n",
      "BPXDI1      5401\n",
      "BPXSY2      5535\n",
      "BPXDI2      5535\n",
      "BMXWT       5666\n",
      "BMXHT       5673\n",
      "BMXBMI      5662\n",
      "BMXLEG      5345\n",
      "BMXARML     5427\n",
      "BMXARMC     5427\n",
      "BMXWAIST    5368\n",
      "HIQ210      4732\n",
      "dtype: int64\n"
     ]
    }
   ],
   "metadata": {}
  },
  {
   "cell_type": "code",
   "execution_count": 25,
   "source": [
    "print(pd.isnull(data.DMDEDUC2).sum())"
   ],
   "outputs": [
    {
     "output_type": "stream",
     "name": "stdout",
     "text": [
      "261\n"
     ]
    }
   ],
   "metadata": {}
  },
  {
   "cell_type": "code",
   "execution_count": 27,
   "source": [
    "print(pd.notnull(data.DMDEDUC2).sum())"
   ],
   "outputs": [
    {
     "output_type": "stream",
     "name": "stdout",
     "text": [
      "5474\n"
     ]
    }
   ],
   "metadata": {}
  },
  {
   "cell_type": "code",
   "execution_count": null,
   "source": [],
   "outputs": [],
   "metadata": {}
  }
 ],
 "metadata": {
  "orig_nbformat": 4,
  "language_info": {
   "name": "python",
   "version": "3.9.4",
   "mimetype": "text/x-python",
   "codemirror_mode": {
    "name": "ipython",
    "version": 3
   },
   "pygments_lexer": "ipython3",
   "nbconvert_exporter": "python",
   "file_extension": ".py"
  },
  "kernelspec": {
   "name": "python3",
   "display_name": "Python 3.9.4 64-bit ('audioESR06': conda)"
  },
  "interpreter": {
   "hash": "508cafaa9b79aa286ed049b8a0503b19fdf3a0473c65d0b67ffb199744fcc7c2"
  }
 },
 "nbformat": 4,
 "nbformat_minor": 2
}