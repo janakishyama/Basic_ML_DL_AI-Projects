{
 "cells": [
  {
   "cell_type": "code",
   "execution_count": 2,
   "metadata": {},
   "outputs": [
    {
     "name": "stdout",
     "output_type": "stream",
     "text": [
      "<pyspark.sql.session.SparkSession object at 0x7f946af84b50>\n",
      "3.0.0-preview2\n"
     ]
    }
   ],
   "source": [
    "# Setting up spark\n",
    "from pyspark.sql import SparkSession\n",
    "\n",
    "spark = SparkSession \\\n",
    "    .builder \\\n",
    "    .appName(\"Python Spark SQL basic example\") \\\n",
    "    .config(\"spark.some.config.option\", \"some-value\") \\\n",
    "    .getOrCreate()\n",
    "print(spark)\n",
    "print(spark.version)\n",
    "\n",
    "import matplotlib.pyplot as plt\n",
    "import numpy as np\n",
    "import pandas as pd\n",
    "%matplotlib inline"
   ]
  },
  {
   "cell_type": "code",
   "execution_count": 3,
   "metadata": {},
   "outputs": [],
   "source": [
    "sql_df = sqlContext.read.format(\"csv\").option(\"header\", \"true\").load(\"hdfs://localhost:9000/eda/dc_rounds.csv\")"
   ]
  },
  {
   "cell_type": "code",
   "execution_count": 4,
   "metadata": {},
   "outputs": [
    {
     "name": "stdout",
     "output_type": "stream",
     "text": [
      "root\n",
      " |-- _c0: integer (nullable = true)\n",
      " |-- company_permalink: string (nullable = true)\n",
      " |-- company_name: string (nullable = true)\n",
      " |-- company_category_list: string (nullable = true)\n",
      " |-- company_country_code: string (nullable = true)\n",
      " |-- funding_round_permalink: string (nullable = true)\n",
      " |-- funding_round_type: string (nullable = true)\n",
      " |-- funded_at: string (nullable = true)\n",
      " |-- raised_amount_usd: double (nullable = true)\n",
      "\n",
      "+---+--------------------+--------------------+---------------------+--------------------+-----------------------+------------------+----------+-----------------+\n",
      "|_c0|   company_permalink|        company_name|company_category_list|company_country_code|funding_round_permalink|funding_round_type| funded_at|raised_amount_usd|\n",
      "+---+--------------------+--------------------+---------------------+--------------------+-----------------------+------------------+----------+-----------------+\n",
      "|  0| /organization/-fame|               #fame|                Media|                 IND|   /funding-round/9a...|           venture|2015-01-05|            1.0E7|\n",
      "|  1|/organization/-qo...|            :Qounter| Application Platf...|                 USA|   /funding-round/22...|           venture|2014-10-14|        1670562.5|\n",
      "|  2|/organization/-qo...|            :Qounter| Application Platf...|                 USA|   /funding-round/b4...|              seed|2014-03-01|         700000.0|\n",
      "|  3|/organization/-th...|(THE) ONE of THEM...|    Apps|Games|Mobile|                 USA|   /funding-round/65...|           venture|2014-01-30|        3406878.0|\n",
      "|  4|/organization/0-6...|             0-6.com|          Curated Web|                 CHN|   /funding-round/57...|           venture|2008-03-19|        2000000.0|\n",
      "+---+--------------------+--------------------+---------------------+--------------------+-----------------------+------------------+----------+-----------------+\n",
      "only showing top 5 rows\n",
      "\n"
     ]
    },
    {
     "data": {
      "text/plain": [
       "111538"
      ]
     },
     "execution_count": 4,
     "metadata": {},
     "output_type": "execute_result"
    }
   ],
   "source": [
    "spark_df=spark.read.csv(\"hdfs://localhost:9000/eda/dc_rounds.csv\", header='true', inferSchema='true')\n",
    "\n",
    "spark_df.printSchema()\n",
    "spark_df.show(5)\n",
    "spark_df.head(5)\n",
    "spark_df.count()"
   ]
  },
  {
   "cell_type": "code",
   "execution_count": 5,
   "metadata": {},
   "outputs": [
    {
     "name": "stdout",
     "output_type": "stream",
     "text": [
      "+-------+--------------------+---------------------+--------------------+------------------+\n",
      "|summary|        company_name|company_category_list|company_country_code|funding_round_type|\n",
      "+-------+--------------------+---------------------+--------------------+------------------+\n",
      "|  count|              111538|               111538|              111538|            111538|\n",
      "|   mean|              2248.0|                  3.0|                null|              null|\n",
      "| stddev|    3328.36181927386|                  0.0|                null|              null|\n",
      "|    min|\"Zwayo \"\"On-Deman...|                   3D|                 ALB|             angel|\n",
      "|    max|    吃神马 ChiShenMa| mHealth|Software|...|                 ZWE|           venture|\n",
      "+-------+--------------------+---------------------+--------------------+------------------+\n",
      "\n"
     ]
    }
   ],
   "source": [
    "spark_df.describe('company_name','company_category_list','company_country_code','funding_round_type').show()\n",
    "#spark_df.describe().show()"
   ]
  },
  {
   "cell_type": "code",
   "execution_count": 6,
   "metadata": {},
   "outputs": [
    {
     "name": "stdout",
     "output_type": "stream",
     "text": [
      "+-------+--------------------+\n",
      "|summary|   raised_amount_usd|\n",
      "+-------+--------------------+\n",
      "|  count|              111538|\n",
      "|   mean|   9041282.096012121|\n",
      "| stddev|1.0594593389534116E8|\n",
      "|    min|                 0.0|\n",
      "|    max|        2.1271935E10|\n",
      "+-------+--------------------+\n",
      "\n"
     ]
    }
   ],
   "source": [
    "spark_df[['raised_amount_usd']].describe().show()"
   ]
  },
  {
   "cell_type": "code",
   "execution_count": 7,
   "metadata": {},
   "outputs": [
    {
     "name": "stdout",
     "output_type": "stream",
     "text": [
      "root\n",
      " |-- company_name: string (nullable = true)\n",
      " |-- company_category_list: string (nullable = true)\n",
      " |-- company_country_code: string (nullable = true)\n",
      " |-- funding_round_type: string (nullable = true)\n",
      " |-- funded_at: string (nullable = true)\n",
      " |-- raised_amount_usd: double (nullable = true)\n",
      "\n"
     ]
    },
    {
     "data": {
      "text/plain": [
       "['venture',\n",
       " 'debt_financing',\n",
       " 'post_ipo_equity',\n",
       " 'equity_crowdfunding',\n",
       " 'non_equity_assistance',\n",
       " 'secondary_market',\n",
       " 'angel',\n",
       " 'convertible_note',\n",
       " 'seed',\n",
       " 'post_ipo_debt',\n",
       " 'undisclosed',\n",
       " 'private_equity',\n",
       " 'product_crowdfunding',\n",
       " 'grant']"
      ]
     },
     "execution_count": 7,
     "metadata": {},
     "output_type": "execute_result"
    }
   ],
   "source": [
    "spark_df = spark_df.drop(\"company_permalink\",\"_c0\",\"funding_round_permalink\")\n",
    "spark_df.printSchema()\n",
    "spark_df.select('funding_round_type').distinct().rdd.map(lambda r: r[0]).collect()"
   ]
  },
  {
   "cell_type": "code",
   "execution_count": 8,
   "metadata": {},
   "outputs": [
    {
     "name": "stdout",
     "output_type": "stream",
     "text": [
      "+-------------------+---------------------+--------------------+------------------+----------+-----------------+\n",
      "|       company_name|company_category_list|company_country_code|funding_round_type| funded_at|raised_amount_usd|\n",
      "+-------------------+---------------------+--------------------+------------------+----------+-----------------+\n",
      "|            1stdibs|           E-Commerce|                 USA|  secondary_market|2015-09-09|        1670562.5|\n",
      "|           50 Cubes| Fashion|Online Ga...|                 USA|  secondary_market|2012-01-01|        1670562.5|\n",
      "|            AddThis| Advertising|Analy...|                 USA|  secondary_market|2014-09-01|        1670562.5|\n",
      "|            Alibaba|           E-Commerce|                 CHN|  secondary_market|2014-04-01|            1.0E8|\n",
      "|         AlienVault|             Security|                 USA|  secondary_market|2014-10-23|        1670562.5|\n",
      "|      ANTs Software|             Software|                 USA|  secondary_market|2010-05-18|        3343789.0|\n",
      "|      ANTs Software|             Software|                 USA|  secondary_market|2010-07-28|        4000000.0|\n",
      "|     Apartment List| Curated Web|Onlin...|                 USA|  secondary_market|2014-02-05|        6000000.0|\n",
      "|             Apptio| Corporate IT|Ente...|                 USA|  secondary_market|2014-07-01|        1670562.5|\n",
      "|             Apptio| Corporate IT|Ente...|                 USA|  secondary_market|2013-01-01|        1670562.5|\n",
      "|          Atlassian| Collaboration|Ent...|                 AUS|  secondary_market|2014-04-08|            1.5E8|\n",
      "|          Atlassian| Collaboration|Ent...|                 AUS|  secondary_market|2010-07-14|            6.0E7|\n",
      "|         Automattic| Blogging Platform...|                 USA|  secondary_market|2013-09-17|            7.5E7|\n",
      "|         Automattic| Blogging Platform...|                 USA|  secondary_market|2013-05-24|           5.17E7|\n",
      "|             Ayondo| Finance|Social Me...|                 GBR|  secondary_market|2014-07-31|        1670562.5|\n",
      "|          Biocartis| Biotechnology|Hea...|                 CHE|  secondary_market|2013-11-01|        1670562.5|\n",
      "|         Chartboost| Advertising|Apps|...|                 USA|  secondary_market|2015-03-01|        1670562.5|\n",
      "|       Chrono24.com| E-Commerce|Fashio...|                 DEU|  secondary_market|2014-04-01|        1670562.5|\n",
      "|Clean Power Finance|     Clean Technology|                 USA|  secondary_market|2014-09-01|        1670562.5|\n",
      "|           Cloudera| Analytics|Big Dat...|                 USA|  secondary_market|2014-09-01|        1670562.5|\n",
      "+-------------------+---------------------+--------------------+------------------+----------+-----------------+\n",
      "only showing top 20 rows\n",
      "\n"
     ]
    }
   ],
   "source": [
    "spark_df.filter(spark_df['funding_round_type']==\"secondary_market\").show()"
   ]
  },
  {
   "cell_type": "code",
   "execution_count": 9,
   "metadata": {},
   "outputs": [
    {
     "data": {
      "text/plain": [
       "0"
      ]
     },
     "execution_count": 9,
     "metadata": {},
     "output_type": "execute_result"
    }
   ],
   "source": [
    "spark_df.filter(spark_df['company_category_list'].isNull()).count()"
   ]
  },
  {
   "cell_type": "code",
   "execution_count": 10,
   "metadata": {},
   "outputs": [
    {
     "name": "stdout",
     "output_type": "stream",
     "text": [
      "company_name \t with null values:  0\n",
      "company_category_list \t with null values:  0\n",
      "company_country_code \t with null values:  0\n",
      "funding_round_type \t with null values:  0\n",
      "funded_at \t with null values:  0\n",
      "raised_amount_usd \t with null values:  0\n"
     ]
    }
   ],
   "source": [
    "for col in spark_df.columns:\n",
    "    print(col, \"\\t\", \"with null values: \", spark_df.filter(spark_df[col].isNull()).count())"
   ]
  },
  {
   "cell_type": "code",
   "execution_count": 12,
   "metadata": {},
   "outputs": [
    {
     "name": "stdout",
     "output_type": "stream",
     "text": [
      "+---------------------------------------+---+---+---+---+---+---+---+---+---+---+---+---+---+---+---+---+---+---+---+---+----+---+---+----+---+---+---+---+---+---+---+---+---+---+---+---+---+---+---+---+---+---+----+---+---+---+---+---+---+---+---+---+---+---+---+---+---+---+---+---+---+---+---+---+---+---+---+---+---+---+---+---+---+---+---+---+---+---+---+---+---+---+---+---+---+---+---+---+---+---+---+---+---+---+---+---+---+---+---+---+---+---+---+---+---+---+---+---+---+---+---+---+---+---+---+---+---+---+---+---+---+---+---+---+---+---+---+---+---+---+-----+---+---+---+---+---+---+\n",
      "|funding_round_type_company_country_code|ALB|ARE|ARG|ARM|AUS|AUT|AZE|BAH|BEL|BGD|BGR|BHR|BLM|BLR|BLZ|BMU|BRA|BRB|BRN|BWA| CAN|CHE|CHL| CHN|CIV|CMR|COL|CRI|CYM|CYP|CZE|DEU|DMA|DNK|DOM|DZA|ECU|EGY|ESP|EST|FIN|FRA| GBR|GEO|GGY|GHA|GIB|GRC|GRD|GTM|HKG|HND|HRV|HUN|IDN|IND|IRL|IRN|ISL|ISR|ITA|JAM|JEY|JOR|JPN|KAZ|KEN|KHM|KNA|KOR|KWT|LAO|LBN|LIE|LKA|LTU|LUX|LVA|MAF|MAR|MCO|MDA|MEX|MKD|MLT|MMR|MNE|MOZ|MUS|MYS|NGA|NIC|NLD|NOR|NPL|NZL|OMN|PAK|PAN|PER|PHL|POL|PRI|PRT|PRY|PSE|QAT|ROM|RUS|RWA|SAU|SEN|SGP|SLV|SOM|SRB|SVK|SVN|SWE|SYC|TAN|TGO|THA|TTO|TUN|TUR|TWN|UGA|UKR|URY|  USA|UZB|VEN|VNM|ZAF|ZMB|ZWE|\n",
      "+---------------------------------------+---+---+---+---+---+---+---+---+---+---+---+---+---+---+---+---+---+---+---+---+----+---+---+----+---+---+---+---+---+---+---+---+---+---+---+---+---+---+---+---+---+---+----+---+---+---+---+---+---+---+---+---+---+---+---+---+---+---+---+---+---+---+---+---+---+---+---+---+---+---+---+---+---+---+---+---+---+---+---+---+---+---+---+---+---+---+---+---+---+---+---+---+---+---+---+---+---+---+---+---+---+---+---+---+---+---+---+---+---+---+---+---+---+---+---+---+---+---+---+---+---+---+---+---+---+---+---+---+---+---+-----+---+---+---+---+---+---+\n",
      "|                         debt_financing|  0|  1|  2|  0| 13|  1|  0|  0|  3|  1|  0|  0|  0|  0|  0|  1| 10|  0|  0|  0| 140|  1|  0|  12|  0|  0|  0|  1|  0|  1|  1| 12|  0|  4|  0|  0|  0|  1| 40|  1|  5| 10|  98|  0|  0|  0|  0|  0|  0|  0|  4|  0|  0|  0|  0| 26|  6|  0|  0| 45|  8|  0|  0|  0|  7|  0|  1|  0|  0|  1|  0|  0|  3|  0|  0|  1|  3| 18|  0|  0|  0|  0|  4|  0|  0|  0|  0|  0|  1|  2|  1|  0|  9|  1|  0|  3|  0|  2|  0|  0|  3|  3|  0|  0|  0|  0|  0|  0| 16|  0|  0|  0|  4|  0|  0|  0|  1|  0|  5|  0|  2|  1|  0|  0|  0|  6|  0|  2|  1|  0| 6294|  0|  0|  1|  6|  0|  1|\n",
      "|                                   seed|  3| 48|184|  2|301| 78|  3|  1|104|  8|155|  4|  0|  5|  0|  1|282|  1|  0|  1| 869|157|356| 101|  2|  0| 41|  6|  5| 16| 43|558|  0|159|  1|  1|  8| 18|516| 84|194|381|1820|  1|  0|  9|  2| 38|  0|  3|122|  1|  8| 37| 68|736|317|  1| 13|415|279|  3|  0| 21|210|  0| 21|  0|  0|144|  1|  0| 16|  0|  2| 29| 19| 27|  0|  2|  2|  1|129|  2|  4|  2|  0|  0|  4| 47| 27|  2|275| 55|  4| 55|  0| 19|  7| 39| 46|111|  0| 85|  1|  1|  1| 18|246|  4|  9|  0|310|  3|  1| 13| 24| 21|165|  1|  6|  0| 33|  2|  1| 77| 17|  9| 45| 10|18352|  1| 13| 11| 39|  2|  1|\n",
      "|                                  angel|  0|  9| 27|  0| 70| 35|  0|  0| 26|  3|  5|  1|  1|  0|  0|  1| 63|  0|  1|  0| 161| 49| 18| 199|  0|  0|  6|  0|  3|  4|  8|115|  1| 50|  1|  0|  0|  5|110| 17| 37|158| 473|  0|  0|  0|  0|  4|  0|  3| 24|  0|  1|  6| 13|250| 44|  0|  2| 99| 59|  0|  1|  1| 23|  0|  3|  1|  0| 65|  0|  1|  3|  0|  1|  3|  5|  7|  0|  0|  0|  0| 13|  0|  1|  1|  0|  0|  0| 15|  8|  0| 65| 16|  0| 19|  0|  4|  0|  4| 10|  8|  0|  6|  0|  0|  0|  9| 46|  1|  2|  0| 46|  1|  0|  2|  3|  2| 53|  0|  1|  0|  4|  0|  0| 33|  7|  3| 10|  3| 3269|  0|  1|  1| 11|  0|  0|\n",
      "|                            undisclosed|  0| 12|  3|  0| 39|  6|  0|  0| 15|  1|  3|  0|  0|  1|  0|  0| 19|  0|  0|  0| 127| 18|  2| 200|  0|  0|  5|  1|  0|  1|  2|140|  0| 64|  0|  0|  0|  4| 95|  4| 11| 37| 554|  0|  0|  0|  0|  0|  0|  1| 43|  0|  1|  1|  3| 96| 24|  0|  0| 38| 43|  0|  0|  8| 44|  0|  2|  1|  0| 39|  0|  1|  3|  1|  0| 14|  2|  1|  0|  0|  0|  0|  5|  0|  0|  0|  0|  0|  0|  2|  2|  0| 51| 21|  0|  2|  0|  1|  1|  1|  6|  7|  0|  2|  0|  0|  0|  4| 37|  0|  1|  0| 22|  0|  0|  0|  0|  0| 81|  0|  0|  0|  2|  0|  0|  4|  5|  0|  3|  0| 2388|  0|  0|  3|  3|  0|  0|\n",
      "|                                venture|  0| 34| 68|  2|222| 62|  0|  1|147|  3|  8|  1|  0|  0|  0|  5|235|  0|  0|  2|1331|289| 10|2051|  0|  4| 21|  1|  8| 11| 30|773|  0|130|  0|  0|  2| 14|339| 21|169|971|2265|  0|  1|  5|  4|  9|  0|  1| 92|  0|  2| 22| 51|984|266|  0| 14|897|133|  0|  0| 11|308|  2| 10|  0|  1|218|  1|  1| 10|  2|  0|  7| 20| 11|  2|  1|  1|  0| 26|  1|  3|  1|  1|  1|  1| 34| 16|  0|231| 92|  0| 50|  0|  8|  1|  6| 17| 47|  2| 27|  0|  1|  0| 11|224|  2|  1|  1|284|  0|  0|  0|  9|  4|303|  0|  5|  0| 30|  4|  1|114| 41|  1|  8|  8|40372|  0|  0| 22| 34|  0|  0|\n",
      "|                        post_ipo_equity|  0|  0|  0|  0| 28|  0|  0|  0|  2|  0|  0|  0|  0|  0|  0|  0|  1|  0|  0|  0|  92|  4|  0|  13|  0|  0|  0|  0|  0|  0|  0| 11|  0|  2|  0|  0|  0|  0|  1|  0|  0|  9|  31|  0|  0|  0|  0|  0|  0|  0|  3|  0|  0|  0|  0|  1|  0|  0|  0| 22|  1|  0|  0|  0|  0|  0|  0|  0|  0|  1|  0|  0|  0|  0|  0|  0|  0|  0|  0|  0|  0|  0|  0|  0|  0|  0|  0|  0|  0|  0|  0|  0|  0|  0|  0|  7|  0|  0|  0|  0|  0|  0|  0|  0|  0|  0|  0|  0|  0|  0|  0|  0|  3|  0|  0|  0|  0|  0|  6|  0|  0|  0|  0|  0|  0|  1|  0|  0|  0|  0|  395|  0|  0|  0|  0|  0|  0|\n",
      "|                   product_crowdfunding|  0|  0|  1|  0|  5|  2|  0|  0|  0|  0|  0|  0|  0|  0|  0|  0|  0|  0|  0|  0|  10|  1|  2|   4|  0|  0|  0|  1|  0|  1|  1| 14|  0|  2|  0|  0|  0|  0|  3|  3|  2|  5|  39|  0|  0|  0|  0|  0|  0|  0|  1|  0|  0|  1|  1|  7|  1|  0|  1|  4|  3|  0|  0|  0|  4|  0|  0|  0|  0|  4|  0|  0|  0|  0|  0|  0|  0|  0|  0|  0|  0|  0|  2|  0|  0|  0|  0|  0|  0|  0|  0|  0|  5|  0|  0|  2|  0|  0|  0|  0|  0|  2|  0|  0|  0|  0|  0|  0|  1|  0|  0|  0|  3|  0|  0|  0|  0|  2|  5|  0|  1|  0|  0|  0|  0|  1|  0|  0|  0|  0|  258|  0|  0|  0|  0|  0|  0|\n",
      "|                          post_ipo_debt|  0|  1|  0|  0|  3|  0|  0|  0|  0|  0|  0|  0|  0|  0|  0|  0|  0|  0|  0|  0|  12|  1|  0|   1|  0|  0|  0|  0|  0|  0|  0|  1|  0|  0|  0|  0|  0|  0|  0|  0|  0|  1|   1|  0|  0|  0|  0|  0|  0|  0|  0|  0|  0|  0|  0|  0|  0|  0|  0|  1|  0|  0|  0|  0|  0|  0|  0|  0|  0|  0|  0|  0|  0|  0|  0|  0|  0|  0|  0|  0|  0|  0|  0|  0|  0|  0|  0|  0|  0|  0|  0|  0|  0|  0|  0|  1|  0|  0|  0|  0|  0|  0|  0|  0|  0|  0|  0|  0|  1|  0|  0|  0|  0|  0|  0|  0|  0|  0|  1|  0|  0|  0|  0|  0|  0|  0|  0|  0|  0|  0|  127|  0|  0|  0|  0|  0|  0|\n",
      "|                       secondary_market|  0|  0|  0|  0|  2|  0|  0|  0|  0|  0|  0|  0|  0|  0|  0|  0|  0|  0|  0|  0|   0|  1|  0|   1|  0|  0|  0|  0|  0|  0|  0|  3|  0|  0|  0|  0|  0|  0|  1|  0|  0|  0|   1|  0|  0|  0|  0|  0|  0|  0|  0|  0|  0|  0|  0|  1|  0|  0|  0|  1|  0|  0|  0|  0|  0|  0|  0|  0|  0|  0|  0|  0|  0|  0|  0|  0|  0|  0|  0|  0|  0|  0|  0|  0|  0|  0|  0|  0|  0|  0|  0|  0|  0|  0|  0|  0|  0|  0|  0|  0|  0|  0|  0|  0|  0|  0|  0|  0|  0|  0|  0|  0|  0|  0|  0|  0|  0|  0|  4|  0|  0|  0|  0|  0|  0|  0|  0|  0|  0|  0|   75|  0|  0|  0|  0|  0|  0|\n",
      "|                    equity_crowdfunding|  0|  2|  1|  0|  6|  0|  0|  0|  2|  0|  2|  1|  0|  0|  2|  0|  3|  0|  0|  1| 166|  5|  3|   2|  0|  0|  0|  1|  0|  1|  0|  6|  0|  2|  1|  0|  0|  0| 12|  0|  5|  6| 267|  0|  0|  0|  0|  0|  0|  0|  0|  0|  0|  0|  2| 22|  5|  0|  0|  7|  3|  0|  0|  0|  2|  0|  1|  1|  0|  2|  0|  0|  0|  0|  0|  1|  0|  0|  0|  0|  0|  1|  6|  0|  0|  0|  0|  0|  1|  0|  5|  0| 10|  0|  0|  9|  0|  3|  0|  0|  0|  1|  0|  0|  0|  0|  0|  3|  1|  0|  0|  0|  3|  0|  0|  0|  0|  0|  4|  0|  0|  0|  0|  0|  0|  0|  0|  2|  2|  1| 2445|  0|  0|  0|  4|  0|  1|\n",
      "|                                  grant|  0|  2| 18|  0| 24| 11|  2|  0| 10|  1|  1|  0|  0|  0|  0|  0| 34|  0|  0|  0|  36|  7| 43|   3|  0|  0| 13|  0|  0|  2|  4| 24|  0|  3|  0|  0|  2|  2| 64|  4| 18| 14| 137|  2|  0|  1|  0|  0|  0|  0|  4|  0|  0|  1|  0|  4| 25|  0|  2| 26| 31|  0|  0|  0|  0|  0|  8|  0|  0| 30|  0|  0|  0|  0|  0|  2|  1|  0|  0|  0|  0|  1| 20|  0|  0|  0|  0|  0|  0|  8|  2|  0| 11| 15|  0|  7|  1|  0|  0| 16|  0|  4|  0|  5|  0|  0|  0|  2| 70|  0|  0|  0| 15|  0|  0|  0|  2|  1|  7|  0|  0|  0|  0|  0|  0| 13|  0|  0|  1|  0| 1327|  0|  2|  1|  1|  0|  0|\n",
      "|                   non_equity_assist...|  0|  1|  4|  0|  3|  1|  0|  0|  0|  0|  0|  0|  0|  0|  0|  0|  2|  0|  0|  0|   5|  1|  1|   0|  0|  0|  0|  0|  0|  0|  0|  0|  0|  2|  0|  0|  0|  0|  2|  1|  2|  1|   7|  0|  0|  0|  0|  0|  0|  0|  1|  0|  0|  0|  0|  2|  0|  0|  0|  0|  2|  0|  0|  0|  0|  0|  0|  0|  0|  0|  0|  0|  0|  0|  0|  0|  0|  0|  0|  0|  0|  0|  0|  0|  0|  0|  0|  0|  0|  0|  0|  0|  0|  0|  0|  0|  0|  0|  0|  0|  0|  0|  0|  0|  0|  0|  0|  0|  0|  0|  0|  0|  0|  0|  0|  0|  0|  0|  0|  0|  0|  0|  0|  0|  0|  2|  0|  0|  0|  0|  120|  0|  0|  0|  1|  0|  0|\n",
      "|                         private_equity|  0|  4|  0|  0| 14|  4|  0|  0| 11|  0|  0|  0|  0|  0|  0|  1| 25|  0|  0|  0|  75| 10|  1|  53|  0|  0|  1|  0|  1|  0|  4| 30|  0|  7|  0|  0|  0|  3| 10|  1|  0| 23| 127|  0|  0|  0|  0|  3|  1|  0|  3|  0|  0|  0|  6| 54| 10|  0|  0| 36|  7|  0|  0|  0|  6|  0|  4|  0|  0|  8|  0|  0|  1|  0|  0|  0|  0|  0|  0|  0|  0|  1|  6|  0|  0|  0|  0|  0|  1|  6|  1|  0| 29| 12|  0|  5|  0|  1|  1|  0|  0|  8|  0|  1|  0|  0|  0|  0| 18|  0|  0|  0| 12|  0|  0|  0|  0|  0| 11|  0|  0|  0|  2|  0|  2|  2|  5|  1|  6|  1| 1480|  0|  0|  3|  9|  0|  0|\n",
      "|                       convertible_note|  0|  2| 19|  0| 10|  0|  0|  0|  0|  0| 32|  0|  0|  0|  0|  0| 15|  0|  0|  0|  39|  6|  9|   1|  0|  0| 15|  0|  0|  0|  1| 10|  0|  2|  0|  0|  0|  0| 32|  1|  2|  5|  49|  1|  0|  0|  0|  1|  0|  0|  1|  0|  1|  0|  0|  6| 17|  0|  0| 15|  3|  0|  0|  0|  2|  0|  2|  0|  0|  1|  0|  0|  0|  0|  2|  0|  1|  0|  0|  0|  0|  0| 12|  0|  0|  1|  0|  0|  0|  1|  2|  0| 12|  2|  0|  1|  0|  0|  0|  9|  0|  0|  0|  2|  0|  0|  0|  0|  5|  0|  0|  0|  7|  0|  0|  1|  1|  0|  2|  0|  0|  0|  2|  0|  0|  1|  0|  0|  0|  0| 1397|  0|  6|  0|  2|  0|  0|\n",
      "+---------------------------------------+---+---+---+---+---+---+---+---+---+---+---+---+---+---+---+---+---+---+---+---+----+---+---+----+---+---+---+---+---+---+---+---+---+---+---+---+---+---+---+---+---+---+----+---+---+---+---+---+---+---+---+---+---+---+---+---+---+---+---+---+---+---+---+---+---+---+---+---+---+---+---+---+---+---+---+---+---+---+---+---+---+---+---+---+---+---+---+---+---+---+---+---+---+---+---+---+---+---+---+---+---+---+---+---+---+---+---+---+---+---+---+---+---+---+---+---+---+---+---+---+---+---+---+---+---+---+---+---+---+---+-----+---+---+---+---+---+---+\n",
      "\n"
     ]
    }
   ],
   "source": [
    "spark_df.crosstab('funding_round_type', 'company_country_code').show()"
   ]
  },
  {
   "cell_type": "code",
   "execution_count": 13,
   "metadata": {},
   "outputs": [],
   "source": [
    "spark_df.createOrReplaceTempView(\"dc_rounds\")"
   ]
  },
  {
   "cell_type": "code",
   "execution_count": 14,
   "metadata": {},
   "outputs": [
    {
     "name": "stdout",
     "output_type": "stream",
     "text": [
      "+-------------------+\n",
      "| funding_round_type|\n",
      "+-------------------+\n",
      "|            venture|\n",
      "|            venture|\n",
      "|               seed|\n",
      "|            venture|\n",
      "|            venture|\n",
      "|            venture|\n",
      "|        undisclosed|\n",
      "|               seed|\n",
      "|            venture|\n",
      "|               seed|\n",
      "|            venture|\n",
      "|            venture|\n",
      "|            venture|\n",
      "|               seed|\n",
      "|        undisclosed|\n",
      "|               seed|\n",
      "|               seed|\n",
      "|equity_crowdfunding|\n",
      "|equity_crowdfunding|\n",
      "|        undisclosed|\n",
      "+-------------------+\n",
      "only showing top 20 rows\n",
      "\n"
     ]
    }
   ],
   "source": [
    "sqlDF = spark.sql(\"SELECT funding_round_type FROM dc_rounds\")\n",
    "sqlDF.show()"
   ]
  },
  {
   "cell_type": "code",
   "execution_count": 15,
   "metadata": {},
   "outputs": [
    {
     "name": "stdout",
     "output_type": "stream",
     "text": [
      "6\n",
      "company_name             111538\n",
      "company_category_list    111538\n",
      "company_country_code     111538\n",
      "funding_round_type       111538\n",
      "funded_at                111538\n",
      "raised_amount_usd        111538\n",
      "dtype: int64\n"
     ]
    }
   ],
   "source": [
    "panda_df = spark_df.toPandas()\n",
    "print(len(panda_df.columns))\n",
    "print((panda_df.count()))"
   ]
  },
  {
   "cell_type": "code",
   "execution_count": 16,
   "metadata": {},
   "outputs": [
    {
     "data": {
      "text/html": [
       "<div>\n",
       "<style scoped>\n",
       "    .dataframe tbody tr th:only-of-type {\n",
       "        vertical-align: middle;\n",
       "    }\n",
       "\n",
       "    .dataframe tbody tr th {\n",
       "        vertical-align: top;\n",
       "    }\n",
       "\n",
       "    .dataframe thead th {\n",
       "        text-align: right;\n",
       "    }\n",
       "</style>\n",
       "<table border=\"1\" class=\"dataframe\">\n",
       "  <thead>\n",
       "    <tr style=\"text-align: right;\">\n",
       "      <th></th>\n",
       "      <th>company_name</th>\n",
       "      <th>company_category_list</th>\n",
       "      <th>company_country_code</th>\n",
       "      <th>funding_round_type</th>\n",
       "    </tr>\n",
       "  </thead>\n",
       "  <tbody>\n",
       "    <tr>\n",
       "      <td>count</td>\n",
       "      <td>111538</td>\n",
       "      <td>111538</td>\n",
       "      <td>111538</td>\n",
       "      <td>111538</td>\n",
       "    </tr>\n",
       "    <tr>\n",
       "      <td>unique</td>\n",
       "      <td>63007</td>\n",
       "      <td>27296</td>\n",
       "      <td>137</td>\n",
       "      <td>14</td>\n",
       "    </tr>\n",
       "    <tr>\n",
       "      <td>top</td>\n",
       "      <td>Solarflare Communications</td>\n",
       "      <td>Biotechnology</td>\n",
       "      <td>USA</td>\n",
       "      <td>venture</td>\n",
       "    </tr>\n",
       "    <tr>\n",
       "      <td>freq</td>\n",
       "      <td>19</td>\n",
       "      <td>8165</td>\n",
       "      <td>78299</td>\n",
       "      <td>54362</td>\n",
       "    </tr>\n",
       "  </tbody>\n",
       "</table>\n",
       "</div>"
      ],
      "text/plain": [
       "                     company_name company_category_list company_country_code  \\\n",
       "count                      111538                111538               111538   \n",
       "unique                      63007                 27296                  137   \n",
       "top     Solarflare Communications         Biotechnology                  USA   \n",
       "freq                           19                  8165                78299   \n",
       "\n",
       "       funding_round_type  \n",
       "count              111538  \n",
       "unique                 14  \n",
       "top               venture  \n",
       "freq                54362  "
      ]
     },
     "execution_count": 16,
     "metadata": {},
     "output_type": "execute_result"
    }
   ],
   "source": [
    "panda_df[['company_name','company_category_list','company_country_code','funding_round_type']].describe()"
   ]
  },
  {
   "cell_type": "code",
   "execution_count": 17,
   "metadata": {},
   "outputs": [
    {
     "data": {
      "text/html": [
       "<div>\n",
       "<style scoped>\n",
       "    .dataframe tbody tr th:only-of-type {\n",
       "        vertical-align: middle;\n",
       "    }\n",
       "\n",
       "    .dataframe tbody tr th {\n",
       "        vertical-align: top;\n",
       "    }\n",
       "\n",
       "    .dataframe thead th {\n",
       "        text-align: right;\n",
       "    }\n",
       "</style>\n",
       "<table border=\"1\" class=\"dataframe\">\n",
       "  <thead>\n",
       "    <tr style=\"text-align: right;\">\n",
       "      <th></th>\n",
       "      <th>raised_amount_usd</th>\n",
       "    </tr>\n",
       "  </thead>\n",
       "  <tbody>\n",
       "    <tr>\n",
       "      <td>count</td>\n",
       "      <td>1.115380e+05</td>\n",
       "    </tr>\n",
       "    <tr>\n",
       "      <td>mean</td>\n",
       "      <td>9.041282e+06</td>\n",
       "    </tr>\n",
       "    <tr>\n",
       "      <td>std</td>\n",
       "      <td>1.059459e+08</td>\n",
       "    </tr>\n",
       "    <tr>\n",
       "      <td>min</td>\n",
       "      <td>0.000000e+00</td>\n",
       "    </tr>\n",
       "    <tr>\n",
       "      <td>25%</td>\n",
       "      <td>5.000000e+05</td>\n",
       "    </tr>\n",
       "    <tr>\n",
       "      <td>50%</td>\n",
       "      <td>1.670562e+06</td>\n",
       "    </tr>\n",
       "    <tr>\n",
       "      <td>75%</td>\n",
       "      <td>5.143361e+06</td>\n",
       "    </tr>\n",
       "    <tr>\n",
       "      <td>max</td>\n",
       "      <td>2.127194e+10</td>\n",
       "    </tr>\n",
       "  </tbody>\n",
       "</table>\n",
       "</div>"
      ],
      "text/plain": [
       "       raised_amount_usd\n",
       "count       1.115380e+05\n",
       "mean        9.041282e+06\n",
       "std         1.059459e+08\n",
       "min         0.000000e+00\n",
       "25%         5.000000e+05\n",
       "50%         1.670562e+06\n",
       "75%         5.143361e+06\n",
       "max         2.127194e+10"
      ]
     },
     "execution_count": 17,
     "metadata": {},
     "output_type": "execute_result"
    }
   ],
   "source": [
    "panda_df.describe()"
   ]
  },
  {
   "cell_type": "code",
   "execution_count": 18,
   "metadata": {},
   "outputs": [
    {
     "data": {
      "text/html": [
       "<div>\n",
       "<style scoped>\n",
       "    .dataframe tbody tr th:only-of-type {\n",
       "        vertical-align: middle;\n",
       "    }\n",
       "\n",
       "    .dataframe tbody tr th {\n",
       "        vertical-align: top;\n",
       "    }\n",
       "\n",
       "    .dataframe thead th {\n",
       "        text-align: right;\n",
       "    }\n",
       "</style>\n",
       "<table border=\"1\" class=\"dataframe\">\n",
       "  <thead>\n",
       "    <tr style=\"text-align: right;\">\n",
       "      <th></th>\n",
       "      <th>company_name</th>\n",
       "      <th>company_category_list</th>\n",
       "      <th>company_country_code</th>\n",
       "      <th>funding_round_type</th>\n",
       "      <th>funded_at</th>\n",
       "      <th>raised_amount_usd</th>\n",
       "    </tr>\n",
       "  </thead>\n",
       "  <tbody>\n",
       "    <tr>\n",
       "      <td>0</td>\n",
       "      <td>#fame</td>\n",
       "      <td>Media</td>\n",
       "      <td>IND</td>\n",
       "      <td>venture</td>\n",
       "      <td>2015-01-05</td>\n",
       "      <td>10000000.0</td>\n",
       "    </tr>\n",
       "    <tr>\n",
       "      <td>1</td>\n",
       "      <td>:Qounter</td>\n",
       "      <td>Application Platforms|Real Time|Social Network...</td>\n",
       "      <td>USA</td>\n",
       "      <td>venture</td>\n",
       "      <td>2014-10-14</td>\n",
       "      <td>1670562.5</td>\n",
       "    </tr>\n",
       "    <tr>\n",
       "      <td>2</td>\n",
       "      <td>:Qounter</td>\n",
       "      <td>Application Platforms|Real Time|Social Network...</td>\n",
       "      <td>USA</td>\n",
       "      <td>seed</td>\n",
       "      <td>2014-03-01</td>\n",
       "      <td>700000.0</td>\n",
       "    </tr>\n",
       "    <tr>\n",
       "      <td>3</td>\n",
       "      <td>(THE) ONE of THEM,Inc.</td>\n",
       "      <td>Apps|Games|Mobile</td>\n",
       "      <td>USA</td>\n",
       "      <td>venture</td>\n",
       "      <td>2014-01-30</td>\n",
       "      <td>3406878.0</td>\n",
       "    </tr>\n",
       "    <tr>\n",
       "      <td>4</td>\n",
       "      <td>0-6.com</td>\n",
       "      <td>Curated Web</td>\n",
       "      <td>CHN</td>\n",
       "      <td>venture</td>\n",
       "      <td>2008-03-19</td>\n",
       "      <td>2000000.0</td>\n",
       "    </tr>\n",
       "    <tr>\n",
       "      <td>5</td>\n",
       "      <td>004 Technologies</td>\n",
       "      <td>Software</td>\n",
       "      <td>USA</td>\n",
       "      <td>venture</td>\n",
       "      <td>2014-07-24</td>\n",
       "      <td>1670562.5</td>\n",
       "    </tr>\n",
       "    <tr>\n",
       "      <td>6</td>\n",
       "      <td>01Games Technology</td>\n",
       "      <td>Games</td>\n",
       "      <td>HKG</td>\n",
       "      <td>undisclosed</td>\n",
       "      <td>2014-07-01</td>\n",
       "      <td>41250.0</td>\n",
       "    </tr>\n",
       "    <tr>\n",
       "      <td>7</td>\n",
       "      <td>Ondine Biomedical Inc.</td>\n",
       "      <td>Biotechnology</td>\n",
       "      <td>CAN</td>\n",
       "      <td>seed</td>\n",
       "      <td>2009-09-11</td>\n",
       "      <td>43360.0</td>\n",
       "    </tr>\n",
       "    <tr>\n",
       "      <td>8</td>\n",
       "      <td>Ondine Biomedical Inc.</td>\n",
       "      <td>Biotechnology</td>\n",
       "      <td>CAN</td>\n",
       "      <td>venture</td>\n",
       "      <td>2009-12-21</td>\n",
       "      <td>719491.0</td>\n",
       "    </tr>\n",
       "    <tr>\n",
       "      <td>9</td>\n",
       "      <td>H2O.ai</td>\n",
       "      <td>Analytics</td>\n",
       "      <td>USA</td>\n",
       "      <td>seed</td>\n",
       "      <td>2013-05-22</td>\n",
       "      <td>3000000.0</td>\n",
       "    </tr>\n",
       "  </tbody>\n",
       "</table>\n",
       "</div>"
      ],
      "text/plain": [
       "             company_name                              company_category_list  \\\n",
       "0                   #fame                                              Media   \n",
       "1                :Qounter  Application Platforms|Real Time|Social Network...   \n",
       "2                :Qounter  Application Platforms|Real Time|Social Network...   \n",
       "3  (THE) ONE of THEM,Inc.                                  Apps|Games|Mobile   \n",
       "4                 0-6.com                                        Curated Web   \n",
       "5        004 Technologies                                           Software   \n",
       "6      01Games Technology                                              Games   \n",
       "7  Ondine Biomedical Inc.                                      Biotechnology   \n",
       "8  Ondine Biomedical Inc.                                      Biotechnology   \n",
       "9                  H2O.ai                                          Analytics   \n",
       "\n",
       "  company_country_code funding_round_type   funded_at  raised_amount_usd  \n",
       "0                  IND            venture  2015-01-05         10000000.0  \n",
       "1                  USA            venture  2014-10-14          1670562.5  \n",
       "2                  USA               seed  2014-03-01           700000.0  \n",
       "3                  USA            venture  2014-01-30          3406878.0  \n",
       "4                  CHN            venture  2008-03-19          2000000.0  \n",
       "5                  USA            venture  2014-07-24          1670562.5  \n",
       "6                  HKG        undisclosed  2014-07-01            41250.0  \n",
       "7                  CAN               seed  2009-09-11            43360.0  \n",
       "8                  CAN            venture  2009-12-21           719491.0  \n",
       "9                  USA               seed  2013-05-22          3000000.0  "
      ]
     },
     "execution_count": 18,
     "metadata": {},
     "output_type": "execute_result"
    }
   ],
   "source": [
    "panda_df.head(10)"
   ]
  },
  {
   "cell_type": "code",
   "execution_count": 19,
   "metadata": {},
   "outputs": [
    {
     "name": "stdout",
     "output_type": "stream",
     "text": [
      "<class 'pandas.core.frame.DataFrame'>\n",
      "RangeIndex: 111538 entries, 0 to 111537\n",
      "Data columns (total 6 columns):\n",
      "company_name             111538 non-null object\n",
      "company_category_list    111538 non-null object\n",
      "company_country_code     111538 non-null object\n",
      "funding_round_type       111538 non-null object\n",
      "funded_at                111538 non-null object\n",
      "raised_amount_usd        111538 non-null float64\n",
      "dtypes: float64(1), object(5)\n",
      "memory usage: 5.1+ MB\n"
     ]
    }
   ],
   "source": [
    "panda_df.info()"
   ]
  },
  {
   "cell_type": "code",
   "execution_count": 20,
   "metadata": {},
   "outputs": [
    {
     "name": "stdout",
     "output_type": "stream",
     "text": [
      "Biotechnology          8165\n",
      "Software               6616\n",
      "Health Care            2239\n",
      "Clean Technology       2172\n",
      "E-Commerce             2167\n",
      "Mobile                 2161\n",
      "Hardware + Software    1782\n",
      "Enterprise Software    1763\n",
      "Curated Web            1606\n",
      "Games                  1347\n",
      "Name: company_category_list, dtype: int64\n"
     ]
    }
   ],
   "source": [
    "count1=panda_df['company_category_list'].value_counts()\n",
    "cc_list=count1.head(10)\n",
    "print(cc_list)"
   ]
  },
  {
   "cell_type": "code",
   "execution_count": 21,
   "metadata": {},
   "outputs": [
    {
     "name": "stdout",
     "output_type": "stream",
     "text": [
      "USA    78299\n",
      "GBR     5869\n",
      "CAN     3063\n",
      "CHN     2641\n",
      "IND     2189\n",
      "DEU     1697\n",
      "FRA     1621\n",
      "ISR     1606\n",
      "ESP     1225\n",
      "AUS      740\n",
      "Name: company_country_code, dtype: int64\n"
     ]
    }
   ],
   "source": [
    "count2=panda_df['company_country_code'].value_counts()\n",
    "acn_list=count2.head(10)\n",
    "print(acn_list)"
   ]
  },
  {
   "cell_type": "code",
   "execution_count": 22,
   "metadata": {},
   "outputs": [
    {
     "data": {
      "image/png": "[encoded data removed]",
      "text/plain": [
       "<Figure size 1296x864 with 1 Axes>"
      ]
     },
     "metadata": {},
     "output_type": "display_data"
    }
   ],
   "source": [
    "import seaborn as sns\n",
    "import matplotlib.pyplot as plt\n",
    "sns.set(rc={'figure.figsize':(18,12)})\n",
    "sns.set(style=\"darkgrid\")\n",
    "sns.barplot(cc_list.index, cc_list.values, alpha=1)\n",
    "plt.title('Frequency Distribution of company_category_list')\n",
    "plt.ylabel('Number of Occurrences', fontsize=15)\n",
    "plt.xlabel('company_category_list', fontsize=15)\n",
    "plt.show()"
   ]
  },
  {
   "cell_type": "code",
   "execution_count": 23,
   "metadata": {},
   "outputs": [
    {
     "data": {
      "text/plain": [
       "<matplotlib.axes._subplots.AxesSubplot at 0x7f94614a4550>"
      ]
     },
     "execution_count": 23,
     "metadata": {},
     "output_type": "execute_result"
    },
    {
     "data": {
      "image/png": "[encoded data removed]",
      "text/plain": [
       "<Figure size 1296x864 with 1 Axes>"
      ]
     },
     "metadata": {},
     "output_type": "display_data"
    }
   ],
   "source": [
    "acn_list.plot.bar()"
   ]
  },
  {
   "cell_type": "code",
   "execution_count": 24,
   "metadata": {},
   "outputs": [
    {
     "name": "stdout",
     "output_type": "stream",
     "text": [
      "venture                54362\n",
      "seed                   29415\n",
      "debt_financing          6851\n",
      "angel                   5954\n",
      "undisclosed             4384\n",
      "equity_crowdfunding     3045\n",
      "private_equity          2168\n",
      "grant                   2148\n",
      "convertible_note        1769\n",
      "post_ipo_equity          634\n",
      "Name: funding_round_type, dtype: int64\n"
     ]
    }
   ],
   "source": [
    "count3=panda_df['funding_round_type'].value_counts()\n",
    "fund_list=count3.head(10)\n",
    "print(fund_list)"
   ]
  },
  {
   "cell_type": "code",
   "execution_count": 25,
   "metadata": {},
   "outputs": [
    {
     "data": {
      "image/png": "[encoded data removed]",
      "text/plain": [
       "<Figure size 1296x864 with 1 Axes>"
      ]
     },
     "metadata": {},
     "output_type": "display_data"
    }
   ],
   "source": [
    "import seaborn as sns\n",
    "import matplotlib.pyplot as plt\n",
    "sns.set(rc={'figure.figsize':(18,12)})\n",
    "sns.set(style=\"darkgrid\")\n",
    "sns.barplot(fund_list.index, fund_list.values, alpha=1)\n",
    "plt.title('Frequency Distribution of funding_round_type')\n",
    "plt.ylabel('Number of Occurrences', fontsize=15)\n",
    "plt.xlabel('funding_round_type', fontsize=15)\n",
    "plt.show()"
   ]
  },
  {
   "cell_type": "code",
   "execution_count": null,
   "metadata": {},
   "outputs": [],
   "source": []
  }
 ],
 "metadata": {
  "kernelspec": {
   "display_name": "Python 3",
   "language": "python",
   "name": "python3"
  },
  "language_info": {
   "codemirror_mode": {
    "name": "ipython",
    "version": 3
   },
   "file_extension": ".py",
   "mimetype": "text/x-python",
   "name": "python",
   "nbconvert_exporter": "python",
   "pygments_lexer": "ipython3",
   "version": "3.7.4"
  }
 },
 "nbformat": 4,
 "nbformat_minor": 2
}
