{
 "cells": [
  {
   "cell_type": "code",
   "execution_count": 1,
   "metadata": {},
   "outputs": [
    {
     "name": "stdout",
     "output_type": "stream",
     "text": [
      "3.0.0-preview2\n",
      "<pyspark.sql.session.SparkSession object at 0x7f08e3f589d0>\n"
     ]
    }
   ],
   "source": [
    "# Setting up spark\n",
    "from pyspark.sql import SparkSession\n",
    "\n",
    "spark = SparkSession \\\n",
    "    .builder \\\n",
    "    .appName(\"Python Spark SQL basic example\") \\\n",
    "    .config(\"spark.some.config.option\", \"some-value\") \\\n",
    "    .getOrCreate()\n",
    "\n",
    "\n",
    "import matplotlib.pyplot as plt\n",
    "import numpy as np\n",
    "import pandas as pd\n",
    "%matplotlib inline\n",
    "\n",
    "print(spark.version)\n",
    "print(spark)"
   ]
  },
  {
   "cell_type": "code",
   "execution_count": 2,
   "metadata": {},
   "outputs": [],
   "source": [
    "spark_df=spark.read.csv(\"hdfs://localhost:9000/eda/dc_investments.csv\", header='true', inferSchema='true')\n",
    "panda_df = spark_df.toPandas()"
   ]
  },
  {
   "cell_type": "code",
   "execution_count": 3,
   "metadata": {},
   "outputs": [
    {
     "name": "stdout",
     "output_type": "stream",
     "text": [
      "root\n",
      " |-- _c0: integer (nullable = true)\n",
      " |-- company_permalink: string (nullable = true)\n",
      " |-- company_name: string (nullable = true)\n",
      " |-- company_category_list: string (nullable = true)\n",
      " |-- company_country_code: string (nullable = true)\n",
      " |-- company_region: string (nullable = true)\n",
      " |-- company_city: string (nullable = true)\n",
      " |-- investor_permalink: string (nullable = true)\n",
      " |-- investor_name: string (nullable = true)\n",
      " |-- investor_country_code: string (nullable = true)\n",
      " |-- funding_round_permalink: string (nullable = true)\n",
      " |-- funding_round_type: string (nullable = true)\n",
      " |-- funded_at: string (nullable = true)\n",
      " |-- raised_amount_usd: double (nullable = true)\n",
      "\n",
      "+---+--------------------+------------------+---------------------+--------------------+--------------------+-------------+--------------------+--------------------+---------------------+-----------------------+------------------+----------+-----------------+\n",
      "|_c0|   company_permalink|      company_name|company_category_list|company_country_code|      company_region| company_city|  investor_permalink|       investor_name|investor_country_code|funding_round_permalink|funding_round_type| funded_at|raised_amount_usd|\n",
      "+---+--------------------+------------------+---------------------+--------------------+--------------------+-------------+--------------------+--------------------+---------------------+-----------------------+------------------+----------+-----------------+\n",
      "|  0|/organization/0-6...|           0-6.com|          Curated Web|                 CHN|             Beijing|      Beijing|/organization/dt-...| DT Capital Partners|                  CHN|   /funding-round/57...|           venture|2008-03-19|        2000000.0|\n",
      "|  1|/organization/004...|  004 Technologies|             Software|                 USA|Springfield, Illi...|    Champaign|/organization/ven...|VCDE Venture Part...|                  DEU|   /funding-round/12...|           venture|2014-07-24|        6000000.0|\n",
      "|  2|/organization/01g...|01Games Technology|                Games|                 HKG|           Hong Kong|    Hong Kong|/organization/cyb...| Cyberport Hong Kong|                  HKG|   /funding-round/7d...|       undisclosed|2014-07-01|          41250.0|\n",
      "|  3|/organization/0xdata|            H2O.ai|            Analytics|                 USA|         SF Bay Area|Mountain View|/organization/cap...|         Capital One|                  USA|   /funding-round/3b...|           venture|2015-11-09|            2.0E7|\n",
      "|  4|/organization/0xdata|            H2O.ai|            Analytics|                 USA|         SF Bay Area|Mountain View|/organization/nex...|Nexus Venture Par...|                  USA|   /funding-round/38...|              seed|2013-05-22|        3000000.0|\n",
      "+---+--------------------+------------------+---------------------+--------------------+--------------------+-------------+--------------------+--------------------+---------------------+-----------------------+------------------+----------+-----------------+\n",
      "only showing top 5 rows\n",
      "\n"
     ]
    },
    {
     "data": {
      "text/plain": [
       "134686"
      ]
     },
     "execution_count": 3,
     "metadata": {},
     "output_type": "execute_result"
    }
   ],
   "source": [
    "spark_df.printSchema()\n",
    "spark_df.show(5)\n",
    "spark_df.head(5)\n",
    "spark_df.count()"
   ]
  },
  {
   "cell_type": "code",
   "execution_count": 5,
   "metadata": {},
   "outputs": [],
   "source": [
    "columns_to_drop = ['_c0', 'company_permalink','investor_permalink','funding_round_permalink']\n",
    "spark_df = spark_df.drop(*columns_to_drop)"
   ]
  },
  {
   "cell_type": "code",
   "execution_count": 6,
   "metadata": {},
   "outputs": [
    {
     "name": "stdout",
     "output_type": "stream",
     "text": [
      "root\n",
      " |-- company_name: string (nullable = true)\n",
      " |-- company_category_list: string (nullable = true)\n",
      " |-- company_country_code: string (nullable = true)\n",
      " |-- company_region: string (nullable = true)\n",
      " |-- company_city: string (nullable = true)\n",
      " |-- investor_name: string (nullable = true)\n",
      " |-- investor_country_code: string (nullable = true)\n",
      " |-- funding_round_type: string (nullable = true)\n",
      " |-- funded_at: string (nullable = true)\n",
      " |-- raised_amount_usd: double (nullable = true)\n",
      "\n"
     ]
    }
   ],
   "source": [
    "spark_df.printSchema()"
   ]
  },
  {
   "cell_type": "code",
   "execution_count": 7,
   "metadata": {},
   "outputs": [
    {
     "name": "stdout",
     "output_type": "stream",
     "text": [
      "+-------+--------------------+\n",
      "|summary|   raised_amount_usd|\n",
      "+-------+--------------------+\n",
      "|  count|              134686|\n",
      "|   mean|1.5157324276936444E7|\n",
      "| stddev| 7.466328943606782E7|\n",
      "|    min|                 0.0|\n",
      "|    max|             1.76E10|\n",
      "+-------+--------------------+\n",
      "\n"
     ]
    }
   ],
   "source": [
    "#spark_df.describe().show()\n",
    "spark_df[['raised_amount_usd']].describe().show()\n",
    "#spark_df.describe().show()"
   ]
  },
  {
   "cell_type": "code",
   "execution_count": 8,
   "metadata": {},
   "outputs": [
    {
     "name": "stdout",
     "output_type": "stream",
     "text": [
      "+-------+----------+------------------+\n",
      "|summary| funded_at|funding_round_type|\n",
      "+-------+----------+------------------+\n",
      "|  count|    134686|            134686|\n",
      "|   mean|      null|              null|\n",
      "| stddev|      null|              null|\n",
      "|    min|1979-01-01|             angel|\n",
      "|    max|2015-12-04|           venture|\n",
      "+-------+----------+------------------+\n",
      "\n"
     ]
    }
   ],
   "source": [
    "spark_df.describe('funded_at','funding_round_type').show()"
   ]
  },
  {
   "cell_type": "code",
   "execution_count": 10,
   "metadata": {},
   "outputs": [
    {
     "data": {
      "text/plain": [
       "['venture',\n",
       " 'debt_financing',\n",
       " 'post_ipo_equity',\n",
       " 'equity_crowdfunding',\n",
       " 'non_equity_assistance',\n",
       " 'secondary_market',\n",
       " 'angel',\n",
       " 'convertible_note',\n",
       " 'seed',\n",
       " 'post_ipo_debt',\n",
       " 'undisclosed',\n",
       " 'private_equity',\n",
       " 'product_crowdfunding',\n",
       " 'grant']"
      ]
     },
     "execution_count": 10,
     "metadata": {},
     "output_type": "execute_result"
    }
   ],
   "source": [
    "spark_df.select('funding_round_type').distinct().rdd.map(lambda r: r[0]).collect()"
   ]
  },
  {
   "cell_type": "code",
   "execution_count": 11,
   "metadata": {},
   "outputs": [
    {
     "name": "stdout",
     "output_type": "stream",
     "text": [
      "+------------------+---------------------+--------------------+--------------+-------------+--------------------+---------------------+--------------------+----------+-----------------+\n",
      "|      company_name|company_category_list|company_country_code|company_region| company_city|       investor_name|investor_country_code|  funding_round_type| funded_at|raised_amount_usd|\n",
      "+------------------+---------------------+--------------------+--------------+-------------+--------------------+---------------------+--------------------+----------+-----------------+\n",
      "|           Avegant| Audio|Displays|Ha...|                 USA|   SF Bay Area| Redwood City|         Kickstarter|                  USA|product_crowdfunding|2014-02-23|        1500000.0|\n",
      "|           BandApp|                Music|                 GBR|          null|         null|           Crowdcube|                  GBR|product_crowdfunding|2013-11-26|         378812.0|\n",
      "|      Blue Freedom| Energy|Technology...|                 USA|          null|         null|         Kickstarter|                  USA|product_crowdfunding|2015-05-01|         200000.0|\n",
      "|         Bluesmart| Consumer Electron...|                 USA|   SF Bay Area|San Francisco|Mind the Seed - M...|                  USA|product_crowdfunding|2015-01-23|        2000000.0|\n",
      "|         Bluesmart| Consumer Electron...|                 USA|   SF Bay Area|San Francisco|           NXTP Labs|                  ARG|product_crowdfunding|2015-01-23|        2000000.0|\n",
      "|         Bluesmart| Consumer Electron...|                 USA|   SF Bay Area|San Francisco|        Y Combinator|                  USA|product_crowdfunding|2015-01-23|        2000000.0|\n",
      "|         Bluesmart| Consumer Electron...|                 USA|   SF Bay Area|San Francisco|          Semil Shah|                  USA|product_crowdfunding|2015-01-23|        2000000.0|\n",
      "|         Booktrope| E-Commerce|Publis...|                 USA|       Seattle|      Seattle|        Y Combinator|                  USA|product_crowdfunding|2015-04-30|        6000000.0|\n",
      "|     Captive Media| Advertising|Digit...|                 GBR|        London|       London|       SyndicateRoom|                  GBR|product_crowdfunding|2013-11-07|         378812.0|\n",
      "|     Captive Media| Advertising|Digit...|                 GBR|        London|       London|        Wren Capital|                  GBR|product_crowdfunding|2013-11-07|         378812.0|\n",
      "|  Consumer Physics|             Hardware|                 ISR|      Tel Aviv|     Herzliya|            OurCrowd|                  ISR|product_crowdfunding|2014-05-30|        2100000.0|\n",
      "|  Consumer Physics|             Hardware|                 ISR|      Tel Aviv|     Herzliya|    The R-Group, LLC|                  USA|product_crowdfunding|2014-05-30|        2100000.0|\n",
      "|  Envie de Fraises|              Fashion|                 FRA|         Paris|        Paris|Generis Capital P...|                  FRA|product_crowdfunding|2013-09-05|        1672580.0|\n",
      "|              Jibo| Artificial Intell...|                 USA|        Boston|    Cambridge|                 CRV|                  USA|product_crowdfunding|2014-10-17|        2300000.0|\n",
      "|         Lernstift| Consumer Electron...|                 DEU|        Munich|      München|               Wayra|                  ESP|product_crowdfunding|2014-08-27|         658913.0|\n",
      "|             Minut| Home Automation|I...|                 USA|          null|         null|         Kickstarter|                  USA|product_crowdfunding|2014-12-01|         238000.0|\n",
      "|Novi Security Inc.| Internet of Thing...|                 USA|Salt Lake City|         Orem|  Microsoft Ventures|                  USA|product_crowdfunding|2014-06-24|         175000.0|\n",
      "|          Nurturey|            Consumers|                 GBR|       Bromley|      Bromley|              Seedrs|                  GBR|product_crowdfunding|2015-01-06|         125000.0|\n",
      "|              OUYA|                Games|                 USA|   Los Angeles|  Los Angeles|             Science|                  USA|product_crowdfunding|2012-08-09|        8600000.0|\n",
      "|         Podo Labs| Hardware|Hardware...|                 USA|   SF Bay Area|San Francisco|         Kickstarter|                  USA|product_crowdfunding|2015-04-21|         427000.0|\n",
      "+------------------+---------------------+--------------------+--------------+-------------+--------------------+---------------------+--------------------+----------+-----------------+\n",
      "only showing top 20 rows\n",
      "\n"
     ]
    }
   ],
   "source": [
    "spark_df.filter(spark_df['funding_round_type']==\"product_crowdfunding\").show()"
   ]
  },
  {
   "cell_type": "code",
   "execution_count": 12,
   "metadata": {},
   "outputs": [
    {
     "name": "stdout",
     "output_type": "stream",
     "text": [
      "company_name \t with null values:  0\n",
      "company_category_list \t with null values:  0\n",
      "company_country_code \t with null values:  0\n",
      "company_region \t with null values:  8416\n",
      "company_city \t with null values:  8415\n",
      "investor_name \t with null values:  0\n",
      "investor_country_code \t with null values:  0\n",
      "funding_round_type \t with null values:  0\n",
      "funded_at \t with null values:  0\n",
      "raised_amount_usd \t with null values:  0\n"
     ]
    }
   ],
   "source": [
    "for col in spark_df.columns:\n",
    "    print(col, \"\\t\", \"with null values: \", spark_df.filter(spark_df[col].isNull()).count())"
   ]
  },
  {
   "cell_type": "code",
   "execution_count": 13,
   "metadata": {},
   "outputs": [
    {
     "name": "stdout",
     "output_type": "stream",
     "text": [
      "+---------------------+\n",
      "|investor_country_code|\n",
      "+---------------------+\n",
      "|                  CHN|\n",
      "|                  DEU|\n",
      "|                  HKG|\n",
      "|                  USA|\n",
      "|                  USA|\n",
      "|                  USA|\n",
      "|                  USA|\n",
      "|                  USA|\n",
      "|                  USA|\n",
      "|                  USA|\n",
      "|                  USA|\n",
      "|                  USA|\n",
      "|                  USA|\n",
      "|                  USA|\n",
      "|                  USA|\n",
      "|                  USA|\n",
      "|                  USA|\n",
      "|                  FRA|\n",
      "|                  USA|\n",
      "|                  USA|\n",
      "+---------------------+\n",
      "only showing top 20 rows\n",
      "\n"
     ]
    }
   ],
   "source": [
    "spark_df.select('investor_country_code').show()"
   ]
  },
  {
   "cell_type": "code",
   "execution_count": 14,
   "metadata": {},
   "outputs": [],
   "source": [
    "spark_df.createOrReplaceTempView(\"dc_investments\")"
   ]
  },
  {
   "cell_type": "code",
   "execution_count": 15,
   "metadata": {},
   "outputs": [],
   "source": [
    "panda_df = spark_df.toPandas()"
   ]
  },
  {
   "cell_type": "code",
   "execution_count": 16,
   "metadata": {},
   "outputs": [
    {
     "name": "stdout",
     "output_type": "stream",
     "text": [
      "10\n",
      "company_name             134686\n",
      "company_category_list    134686\n",
      "company_country_code     134686\n",
      "company_region           126270\n",
      "company_city             126271\n",
      "investor_name            134686\n",
      "investor_country_code    134686\n",
      "funding_round_type       134686\n",
      "funded_at                134686\n",
      "raised_amount_usd        134686\n",
      "dtype: int64\n"
     ]
    }
   ],
   "source": [
    "print(len(panda_df.columns))\n",
    "print((panda_df.count()))"
   ]
  },
  {
   "cell_type": "code",
   "execution_count": 18,
   "metadata": {},
   "outputs": [
    {
     "data": {
      "text/html": [
       "<div>\n",
       "<style scoped>\n",
       "    .dataframe tbody tr th:only-of-type {\n",
       "        vertical-align: middle;\n",
       "    }\n",
       "\n",
       "    .dataframe tbody tr th {\n",
       "        vertical-align: top;\n",
       "    }\n",
       "\n",
       "    .dataframe thead th {\n",
       "        text-align: right;\n",
       "    }\n",
       "</style>\n",
       "<table border=\"1\" class=\"dataframe\">\n",
       "  <thead>\n",
       "    <tr style=\"text-align: right;\">\n",
       "      <th></th>\n",
       "      <th>company_category_list</th>\n",
       "      <th>company_country_code</th>\n",
       "      <th>investor_name</th>\n",
       "      <th>company_name</th>\n",
       "      <th>funding_round_type</th>\n",
       "    </tr>\n",
       "  </thead>\n",
       "  <tbody>\n",
       "    <tr>\n",
       "      <td>count</td>\n",
       "      <td>134686</td>\n",
       "      <td>134686</td>\n",
       "      <td>134686</td>\n",
       "      <td>134686</td>\n",
       "      <td>134686</td>\n",
       "    </tr>\n",
       "    <tr>\n",
       "      <td>unique</td>\n",
       "      <td>17562</td>\n",
       "      <td>118</td>\n",
       "      <td>14184</td>\n",
       "      <td>38287</td>\n",
       "      <td>14</td>\n",
       "    </tr>\n",
       "    <tr>\n",
       "      <td>top</td>\n",
       "      <td>Biotechnology</td>\n",
       "      <td>USA</td>\n",
       "      <td>Sequoia Capital</td>\n",
       "      <td>DocuSign</td>\n",
       "      <td>venture</td>\n",
       "    </tr>\n",
       "    <tr>\n",
       "      <td>freq</td>\n",
       "      <td>8789</td>\n",
       "      <td>99231</td>\n",
       "      <td>1025</td>\n",
       "      <td>60</td>\n",
       "      <td>88803</td>\n",
       "    </tr>\n",
       "  </tbody>\n",
       "</table>\n",
       "</div>"
      ],
      "text/plain": [
       "       company_category_list company_country_code    investor_name  \\\n",
       "count                 134686               134686           134686   \n",
       "unique                 17562                  118            14184   \n",
       "top            Biotechnology                  USA  Sequoia Capital   \n",
       "freq                    8789                99231             1025   \n",
       "\n",
       "       company_name funding_round_type  \n",
       "count        134686             134686  \n",
       "unique        38287                 14  \n",
       "top        DocuSign            venture  \n",
       "freq             60              88803  "
      ]
     },
     "execution_count": 18,
     "metadata": {},
     "output_type": "execute_result"
    }
   ],
   "source": [
    "panda_df[['company_category_list','company_country_code','investor_name','company_name','funding_round_type']].describe()"
   ]
  },
  {
   "cell_type": "code",
   "execution_count": 20,
   "metadata": {},
   "outputs": [
    {
     "data": {
      "text/html": [
       "<div>\n",
       "<style scoped>\n",
       "    .dataframe tbody tr th:only-of-type {\n",
       "        vertical-align: middle;\n",
       "    }\n",
       "\n",
       "    .dataframe tbody tr th {\n",
       "        vertical-align: top;\n",
       "    }\n",
       "\n",
       "    .dataframe thead th {\n",
       "        text-align: right;\n",
       "    }\n",
       "</style>\n",
       "<table border=\"1\" class=\"dataframe\">\n",
       "  <thead>\n",
       "    <tr style=\"text-align: right;\">\n",
       "      <th></th>\n",
       "      <th>raised_amount_usd</th>\n",
       "    </tr>\n",
       "  </thead>\n",
       "  <tbody>\n",
       "    <tr>\n",
       "      <td>count</td>\n",
       "      <td>1.346860e+05</td>\n",
       "    </tr>\n",
       "    <tr>\n",
       "      <td>mean</td>\n",
       "      <td>1.515732e+07</td>\n",
       "    </tr>\n",
       "    <tr>\n",
       "      <td>std</td>\n",
       "      <td>7.466329e+07</td>\n",
       "    </tr>\n",
       "    <tr>\n",
       "      <td>min</td>\n",
       "      <td>0.000000e+00</td>\n",
       "    </tr>\n",
       "    <tr>\n",
       "      <td>25%</td>\n",
       "      <td>2.000000e+06</td>\n",
       "    </tr>\n",
       "    <tr>\n",
       "      <td>50%</td>\n",
       "      <td>6.000000e+06</td>\n",
       "    </tr>\n",
       "    <tr>\n",
       "      <td>75%</td>\n",
       "      <td>1.450000e+07</td>\n",
       "    </tr>\n",
       "    <tr>\n",
       "      <td>max</td>\n",
       "      <td>1.760000e+10</td>\n",
       "    </tr>\n",
       "  </tbody>\n",
       "</table>\n",
       "</div>"
      ],
      "text/plain": [
       "       raised_amount_usd\n",
       "count       1.346860e+05\n",
       "mean        1.515732e+07\n",
       "std         7.466329e+07\n",
       "min         0.000000e+00\n",
       "25%         2.000000e+06\n",
       "50%         6.000000e+06\n",
       "75%         1.450000e+07\n",
       "max         1.760000e+10"
      ]
     },
     "execution_count": 20,
     "metadata": {},
     "output_type": "execute_result"
    }
   ],
   "source": [
    "panda_df.describe()"
   ]
  },
  {
   "cell_type": "code",
   "execution_count": 21,
   "metadata": {},
   "outputs": [
    {
     "data": {
      "text/html": [
       "<div>\n",
       "<style scoped>\n",
       "    .dataframe tbody tr th:only-of-type {\n",
       "        vertical-align: middle;\n",
       "    }\n",
       "\n",
       "    .dataframe tbody tr th {\n",
       "        vertical-align: top;\n",
       "    }\n",
       "\n",
       "    .dataframe thead th {\n",
       "        text-align: right;\n",
       "    }\n",
       "</style>\n",
       "<table border=\"1\" class=\"dataframe\">\n",
       "  <thead>\n",
       "    <tr style=\"text-align: right;\">\n",
       "      <th></th>\n",
       "      <th>company_name</th>\n",
       "      <th>company_category_list</th>\n",
       "      <th>company_country_code</th>\n",
       "      <th>company_region</th>\n",
       "      <th>company_city</th>\n",
       "      <th>investor_name</th>\n",
       "      <th>investor_country_code</th>\n",
       "      <th>funding_round_type</th>\n",
       "      <th>funded_at</th>\n",
       "      <th>raised_amount_usd</th>\n",
       "    </tr>\n",
       "  </thead>\n",
       "  <tbody>\n",
       "    <tr>\n",
       "      <td>0</td>\n",
       "      <td>0-6.com</td>\n",
       "      <td>Curated Web</td>\n",
       "      <td>CHN</td>\n",
       "      <td>Beijing</td>\n",
       "      <td>Beijing</td>\n",
       "      <td>DT Capital Partners</td>\n",
       "      <td>CHN</td>\n",
       "      <td>venture</td>\n",
       "      <td>2008-03-19</td>\n",
       "      <td>2000000.0</td>\n",
       "    </tr>\n",
       "    <tr>\n",
       "      <td>1</td>\n",
       "      <td>004 Technologies</td>\n",
       "      <td>Software</td>\n",
       "      <td>USA</td>\n",
       "      <td>Springfield, Illinois</td>\n",
       "      <td>Champaign</td>\n",
       "      <td>VCDE Venture Partners</td>\n",
       "      <td>DEU</td>\n",
       "      <td>venture</td>\n",
       "      <td>2014-07-24</td>\n",
       "      <td>6000000.0</td>\n",
       "    </tr>\n",
       "    <tr>\n",
       "      <td>2</td>\n",
       "      <td>01Games Technology</td>\n",
       "      <td>Games</td>\n",
       "      <td>HKG</td>\n",
       "      <td>Hong Kong</td>\n",
       "      <td>Hong Kong</td>\n",
       "      <td>Cyberport Hong Kong</td>\n",
       "      <td>HKG</td>\n",
       "      <td>undisclosed</td>\n",
       "      <td>2014-07-01</td>\n",
       "      <td>41250.0</td>\n",
       "    </tr>\n",
       "    <tr>\n",
       "      <td>3</td>\n",
       "      <td>H2O.ai</td>\n",
       "      <td>Analytics</td>\n",
       "      <td>USA</td>\n",
       "      <td>SF Bay Area</td>\n",
       "      <td>Mountain View</td>\n",
       "      <td>Capital One</td>\n",
       "      <td>USA</td>\n",
       "      <td>venture</td>\n",
       "      <td>2015-11-09</td>\n",
       "      <td>20000000.0</td>\n",
       "    </tr>\n",
       "    <tr>\n",
       "      <td>4</td>\n",
       "      <td>H2O.ai</td>\n",
       "      <td>Analytics</td>\n",
       "      <td>USA</td>\n",
       "      <td>SF Bay Area</td>\n",
       "      <td>Mountain View</td>\n",
       "      <td>Nexus Venture Partners</td>\n",
       "      <td>USA</td>\n",
       "      <td>seed</td>\n",
       "      <td>2013-05-22</td>\n",
       "      <td>3000000.0</td>\n",
       "    </tr>\n",
       "    <tr>\n",
       "      <td>5</td>\n",
       "      <td>H2O.ai</td>\n",
       "      <td>Analytics</td>\n",
       "      <td>USA</td>\n",
       "      <td>SF Bay Area</td>\n",
       "      <td>Mountain View</td>\n",
       "      <td>Nexus Venture Partners</td>\n",
       "      <td>USA</td>\n",
       "      <td>venture</td>\n",
       "      <td>2015-11-09</td>\n",
       "      <td>20000000.0</td>\n",
       "    </tr>\n",
       "    <tr>\n",
       "      <td>6</td>\n",
       "      <td>H2O.ai</td>\n",
       "      <td>Analytics</td>\n",
       "      <td>USA</td>\n",
       "      <td>SF Bay Area</td>\n",
       "      <td>Mountain View</td>\n",
       "      <td>Nexus Venture Partners</td>\n",
       "      <td>USA</td>\n",
       "      <td>venture</td>\n",
       "      <td>2013-01-03</td>\n",
       "      <td>1700000.0</td>\n",
       "    </tr>\n",
       "    <tr>\n",
       "      <td>7</td>\n",
       "      <td>H2O.ai</td>\n",
       "      <td>Analytics</td>\n",
       "      <td>USA</td>\n",
       "      <td>SF Bay Area</td>\n",
       "      <td>Mountain View</td>\n",
       "      <td>Nexus Venture Partners</td>\n",
       "      <td>USA</td>\n",
       "      <td>venture</td>\n",
       "      <td>2014-07-19</td>\n",
       "      <td>8900000.0</td>\n",
       "    </tr>\n",
       "    <tr>\n",
       "      <td>8</td>\n",
       "      <td>H2O.ai</td>\n",
       "      <td>Analytics</td>\n",
       "      <td>USA</td>\n",
       "      <td>SF Bay Area</td>\n",
       "      <td>Mountain View</td>\n",
       "      <td>Transamerica</td>\n",
       "      <td>USA</td>\n",
       "      <td>venture</td>\n",
       "      <td>2015-11-09</td>\n",
       "      <td>20000000.0</td>\n",
       "    </tr>\n",
       "    <tr>\n",
       "      <td>9</td>\n",
       "      <td>H2O.ai</td>\n",
       "      <td>Analytics</td>\n",
       "      <td>USA</td>\n",
       "      <td>SF Bay Area</td>\n",
       "      <td>Mountain View</td>\n",
       "      <td>Transamerica Ventures</td>\n",
       "      <td>USA</td>\n",
       "      <td>venture</td>\n",
       "      <td>2014-07-19</td>\n",
       "      <td>8900000.0</td>\n",
       "    </tr>\n",
       "  </tbody>\n",
       "</table>\n",
       "</div>"
      ],
      "text/plain": [
       "         company_name company_category_list company_country_code  \\\n",
       "0             0-6.com           Curated Web                  CHN   \n",
       "1    004 Technologies              Software                  USA   \n",
       "2  01Games Technology                 Games                  HKG   \n",
       "3              H2O.ai             Analytics                  USA   \n",
       "4              H2O.ai             Analytics                  USA   \n",
       "5              H2O.ai             Analytics                  USA   \n",
       "6              H2O.ai             Analytics                  USA   \n",
       "7              H2O.ai             Analytics                  USA   \n",
       "8              H2O.ai             Analytics                  USA   \n",
       "9              H2O.ai             Analytics                  USA   \n",
       "\n",
       "          company_region   company_city           investor_name  \\\n",
       "0                Beijing        Beijing     DT Capital Partners   \n",
       "1  Springfield, Illinois      Champaign   VCDE Venture Partners   \n",
       "2              Hong Kong      Hong Kong     Cyberport Hong Kong   \n",
       "3            SF Bay Area  Mountain View             Capital One   \n",
       "4            SF Bay Area  Mountain View  Nexus Venture Partners   \n",
       "5            SF Bay Area  Mountain View  Nexus Venture Partners   \n",
       "6            SF Bay Area  Mountain View  Nexus Venture Partners   \n",
       "7            SF Bay Area  Mountain View  Nexus Venture Partners   \n",
       "8            SF Bay Area  Mountain View            Transamerica   \n",
       "9            SF Bay Area  Mountain View   Transamerica Ventures   \n",
       "\n",
       "  investor_country_code funding_round_type   funded_at  raised_amount_usd  \n",
       "0                   CHN            venture  2008-03-19          2000000.0  \n",
       "1                   DEU            venture  2014-07-24          6000000.0  \n",
       "2                   HKG        undisclosed  2014-07-01            41250.0  \n",
       "3                   USA            venture  2015-11-09         20000000.0  \n",
       "4                   USA               seed  2013-05-22          3000000.0  \n",
       "5                   USA            venture  2015-11-09         20000000.0  \n",
       "6                   USA            venture  2013-01-03          1700000.0  \n",
       "7                   USA            venture  2014-07-19          8900000.0  \n",
       "8                   USA            venture  2015-11-09         20000000.0  \n",
       "9                   USA            venture  2014-07-19          8900000.0  "
      ]
     },
     "execution_count": 21,
     "metadata": {},
     "output_type": "execute_result"
    }
   ],
   "source": [
    "panda_df.head(10)"
   ]
  },
  {
   "cell_type": "code",
   "execution_count": 22,
   "metadata": {},
   "outputs": [
    {
     "name": "stdout",
     "output_type": "stream",
     "text": [
      "<class 'pandas.core.frame.DataFrame'>\n",
      "RangeIndex: 134686 entries, 0 to 134685\n",
      "Data columns (total 10 columns):\n",
      "company_name             134686 non-null object\n",
      "company_category_list    134686 non-null object\n",
      "company_country_code     134686 non-null object\n",
      "company_region           126270 non-null object\n",
      "company_city             126271 non-null object\n",
      "investor_name            134686 non-null object\n",
      "investor_country_code    134686 non-null object\n",
      "funding_round_type       134686 non-null object\n",
      "funded_at                134686 non-null object\n",
      "raised_amount_usd        134686 non-null float64\n",
      "dtypes: float64(1), object(9)\n",
      "memory usage: 10.3+ MB\n"
     ]
    }
   ],
   "source": [
    "panda_df.info()"
   ]
  },
  {
   "cell_type": "code",
   "execution_count": 23,
   "metadata": {},
   "outputs": [
    {
     "data": {
      "text/plain": [
       "(134686, 10)"
      ]
     },
     "execution_count": 23,
     "metadata": {},
     "output_type": "execute_result"
    }
   ],
   "source": [
    "panda_df.shape"
   ]
  },
  {
   "cell_type": "code",
   "execution_count": 26,
   "metadata": {},
   "outputs": [],
   "source": [
    "panda_df.drop_duplicates(keep='first', inplace = True)"
   ]
  },
  {
   "cell_type": "code",
   "execution_count": 27,
   "metadata": {},
   "outputs": [
    {
     "data": {
      "text/plain": [
       "(134610, 10)"
      ]
     },
     "execution_count": 27,
     "metadata": {},
     "output_type": "execute_result"
    }
   ],
   "source": [
    "panda_df.shape"
   ]
  },
  {
   "cell_type": "code",
   "execution_count": 28,
   "metadata": {},
   "outputs": [
    {
     "data": {
      "text/plain": [
       "company_region           8413\n",
       "company_city             8412\n",
       "raised_amount_usd           0\n",
       "funded_at                   0\n",
       "funding_round_type          0\n",
       "investor_country_code       0\n",
       "investor_name               0\n",
       "company_country_code        0\n",
       "company_category_list       0\n",
       "company_name                0\n",
       "dtype: int64"
      ]
     },
     "execution_count": 28,
     "metadata": {},
     "output_type": "execute_result"
    }
   ],
   "source": [
    "panda_df.isnull().sum().sort_values(ascending=False)"
   ]
  },
  {
   "cell_type": "code",
   "execution_count": 29,
   "metadata": {},
   "outputs": [
    {
     "name": "stdout",
     "output_type": "stream",
     "text": [
      "Biotechnology          8789\n",
      "Software               7603\n",
      "Mobile                 2679\n",
      "Enterprise Software    2621\n",
      "Health Care            2507\n",
      "Clean Technology       2464\n",
      "E-Commerce             2415\n",
      "Semiconductors         2292\n",
      "Hardware + Software    2041\n",
      "Curated Web            1881\n",
      "Name: company_category_list, dtype: int64\n"
     ]
    }
   ],
   "source": [
    "count1=panda_df['company_category_list'].value_counts()\n",
    "cc_list=count1.head(10)\n",
    "print(cc_list)"
   ]
  },
  {
   "cell_type": "code",
   "execution_count": 30,
   "metadata": {},
   "outputs": [
    {
     "name": "stdout",
     "output_type": "stream",
     "text": [
      "venture                88753\n",
      "seed                   31161\n",
      "undisclosed             4360\n",
      "angel                   3408\n",
      "private_equity          2239\n",
      "debt_financing          1847\n",
      "convertible_note        1188\n",
      "grant                    957\n",
      "equity_crowdfunding      276\n",
      "post_ipo_equity          155\n",
      "Name: funding_round_type, dtype: int64\n"
     ]
    }
   ],
   "source": [
    "count2=panda_df['funding_round_type'].value_counts()\n",
    "acn_list=count2.head(10)\n",
    "print(acn_list)"
   ]
  },
  {
   "cell_type": "code",
   "execution_count": 31,
   "metadata": {},
   "outputs": [
    {
     "data": {
      "image/png": "[encoded data removed]",
      "text/plain": [
       "<Figure size 1296x864 with 1 Axes>"
      ]
     },
     "metadata": {},
     "output_type": "display_data"
    }
   ],
   "source": [
    "import seaborn as sns\n",
    "import matplotlib.pyplot as plt\n",
    "sns.set(rc={'figure.figsize':(18,12)})\n",
    "sns.set(style=\"darkgrid\")\n",
    "sns.barplot(cc_list.index, cc_list.values, alpha=1)\n",
    "plt.title('Frequency Distribution of company_category_list')\n",
    "plt.ylabel('Number of Occurrences', fontsize=15)\n",
    "plt.xlabel('company_category_list', fontsize=15)\n",
    "plt.show()"
   ]
  },
  {
   "cell_type": "code",
   "execution_count": 32,
   "metadata": {},
   "outputs": [
    {
     "data": {
      "text/plain": [
       "<matplotlib.axes._subplots.AxesSubplot at 0x7f08da838710>"
      ]
     },
     "execution_count": 32,
     "metadata": {},
     "output_type": "execute_result"
    },
    {
     "data": {
      "image/png": "[encoded data removed]",
      "text/plain": [
       "<Figure size 1296x864 with 1 Axes>"
      ]
     },
     "metadata": {},
     "output_type": "display_data"
    }
   ],
   "source": [
    "acn_list.plot.bar()"
   ]
  },
  {
   "cell_type": "code",
   "execution_count": 33,
   "metadata": {},
   "outputs": [
    {
     "data": {
      "text/plain": [
       "<matplotlib.axes._subplots.AxesSubplot at 0x7f08d2aca510>"
      ]
     },
     "execution_count": 33,
     "metadata": {},
     "output_type": "execute_result"
    },
    {
     "data": {
      "image/png": "[encoded data removed]",
      "text/plain": [
       "<Figure size 1296x864 with 1 Axes>"
      ]
     },
     "metadata": {},
     "output_type": "display_data"
    }
   ],
   "source": [
    "sns.boxplot( y=panda_df[\"raised_amount_usd\"] )"
   ]
  }
 ],
 "metadata": {
  "kernelspec": {
   "display_name": "Python 3",
   "language": "python",
   "name": "python3"
  },
  "language_info": {
   "codemirror_mode": {
    "name": "ipython",
    "version": 3
   },
   "file_extension": ".py",
   "mimetype": "text/x-python",
   "name": "python",
   "nbconvert_exporter": "python",
   "pygments_lexer": "ipython3",
   "version": "3.7.4"
  }
 },
 "nbformat": 4,
 "nbformat_minor": 2
}
